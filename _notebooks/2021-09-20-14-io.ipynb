{
 "cells": [
  {
   "cell_type": "markdown",
   "source": [
    "# 14. IO Programming\r\n",
    "> Dealing with files, databases, pickles\r\n",
    "\r\n",
    "- toc: true\r\n",
    "- badges: true\r\n",
    "- comments: true\r\n",
    "- categories: [python]\r\n",
    "- author: Zhi Li\r\n",
    "- sticky_rank: 14"
   ],
   "metadata": {}
  },
  {
   "cell_type": "markdown",
   "source": [
    "\r\n",
    "This session will introduce the idea of “persistent” programs that keep data in permanent storage, show how to use different kinds of permanent storage, like files and databases.\r\n",
    "\r\n",
    "## What is I/O?\r\n",
    "\r\n",
    "I/O in computer science means **Input/Output**.\r\n",
    "\r\n",
    "Q. Why is I/O so important?\r\n",
    "\r\n",
    "Q. Can you give some exmples of I/O?\r\n",
    "\r\n",
    "Q. What is the difference between **Synchronous** and **Asynchronous** I/O?\r\n",
    "\r\n",
    "\r\n",
    "## Files\r\n",
    "\r\n",
    "\r\n",
    "Most of the programs we have seen so far are transient in the sense that they run for a short time and produce some output, but when they end, their data disappears. If you run the program again, it starts with a clean slate.\r\n",
    "\r\n",
    "Other programs are **persistent**: they run for a long time (or all the time); they keep at least some of their data in permanent storage (a hard drive, for example); and if they shut down and restart, they pick up where they left off.\r\n",
    "\r\n",
    "Examples of persistent programs are operating systems, which run pretty much whenever a computer is on, and web servers, which run all the time, waiting for requests to come in on the network.\r\n",
    "\r\n",
    "One of the simplest ways for programs to maintain their data is by reading and writing text files. We have already seen programs that read text files; in this chapter we will see programs that write them.\r\n",
    "\r\n",
    "An alternative is to store the state of the program in a **database**. In this chapter I will present a simple database and a module, <code>pickle</code>, that makes it easy to store program data. "
   ],
   "metadata": {}
  },
  {
   "cell_type": "markdown",
   "source": [
    "### Reading and writing files\n",
    "\n",
    "To write a file:"
   ],
   "metadata": {}
  },
  {
   "cell_type": "code",
   "execution_count": null,
   "source": [
    "fout = open('output.txt', 'w')"
   ],
   "outputs": [],
   "metadata": {}
  },
  {
   "cell_type": "markdown",
   "source": [
    "If the file already exists, opening it in write mode clears out the old data and starts fresh, so **BE CAREFUL**! If the file doesn’t exist, a new one is created."
   ],
   "metadata": {}
  },
  {
   "cell_type": "code",
   "execution_count": null,
   "source": [
    "line1 = \"How many roads must a man walk down\\n\"\r\n",
    "fout.write(line1)"
   ],
   "outputs": [],
   "metadata": {}
  },
  {
   "cell_type": "code",
   "execution_count": null,
   "source": [
    "line2 = \"Before you call him a man?\\n\"\r\n",
    "fout.write(line2)"
   ],
   "outputs": [],
   "metadata": {}
  },
  {
   "cell_type": "code",
   "execution_count": null,
   "source": [
    "# When you are done writing, you should close the file.\r\n",
    "fout.close()\r\n",
    "# If you don’t close the file, \r\n",
    "# it gets closed for you when the program ends."
   ],
   "outputs": [],
   "metadata": {}
  },
  {
   "cell_type": "markdown",
   "source": [
    "### ***Exercise 01***\n",
    "\n",
    "Modify the function <code>sed</code> that takes as arguments a pattern string, a replacement string, and two filenames; it should read the first file and write the contents into the second file (creating it if necessary). If the pattern string appears anywhere in the file, it should be replaced with the replacement string.\n"
   ],
   "metadata": {}
  },
  {
   "cell_type": "markdown",
   "source": [
    "### Filenames and paths\n",
    "\n",
    "\n",
    "\n",
    "Files are organized into **directories** (also called “folders”). Every running program has a “current directory”, which is the default directory for most operations. For example, when you open a file for reading, Python looks for it in the current directory.\n",
    "\n",
    "The <code>os</code> module provides functions for working with files and directories (“os” stands for “operating system”). <code>os.getcwd</code> returns the name of the current directory: "
   ],
   "metadata": {}
  },
  {
   "cell_type": "code",
   "execution_count": null,
   "source": [
    "import os\r\n",
    "cwd = os.getcwd() \r\n",
    "# cwd stands for “current working directory”. \r\n",
    "print(cwd)"
   ],
   "outputs": [],
   "metadata": {}
  },
  {
   "cell_type": "markdown",
   "source": [
    "<code>os.path</code> provides other functions for working with filenames and paths."
   ],
   "metadata": {}
  },
  {
   "cell_type": "code",
   "execution_count": null,
   "source": [
    "os.path.abspath('output.txt')"
   ],
   "outputs": [],
   "metadata": {}
  },
  {
   "cell_type": "code",
   "execution_count": null,
   "source": [
    "os.path.exists('output.txt')"
   ],
   "outputs": [],
   "metadata": {}
  },
  {
   "cell_type": "code",
   "execution_count": null,
   "source": [
    "os.path.isdir('output.txt')"
   ],
   "outputs": [],
   "metadata": {}
  },
  {
   "cell_type": "code",
   "execution_count": null,
   "source": [
    "os.path.isdir('/exercises')"
   ],
   "outputs": [],
   "metadata": {}
  },
  {
   "cell_type": "code",
   "execution_count": null,
   "source": [
    "os.path.isfile('output.txt')"
   ],
   "outputs": [],
   "metadata": {}
  },
  {
   "cell_type": "code",
   "execution_count": null,
   "source": [
    "os.listdir(cwd)"
   ],
   "outputs": [],
   "metadata": {}
  },
  {
   "cell_type": "markdown",
   "source": [
    "To demonstrate these functions, the following example “walks” through a directory, prints the names of all the files, and calls itself recursively on all the directories. "
   ],
   "metadata": {}
  },
  {
   "cell_type": "code",
   "execution_count": null,
   "source": [
    "def walk(dirname):\r\n",
    "    \"\"\"Prints the names of all files in \r\n",
    "    dirname and its subdirectories.\r\n",
    "\r\n",
    "    dirname: string name of directory\r\n",
    "    \"\"\"\r\n",
    "    for name in os.listdir(dirname):\r\n",
    "        path = os.path.join(dirname, name)\r\n",
    "\r\n",
    "        if os.path.isfile(path):\r\n",
    "            print(path)\r\n",
    "        else:\r\n",
    "            walk(path)"
   ],
   "outputs": [],
   "metadata": {}
  },
  {
   "cell_type": "markdown",
   "source": [
    "<code>os.path.join</code> takes a directory and a file name and joins them into a complete path.\n",
    "\n",
    "The <code>os</code> module provides a function called <code>walk</code> that is similar to this one but more versatile."
   ],
   "metadata": {}
  },
  {
   "cell_type": "code",
   "execution_count": null,
   "source": [
    "def walk2(dirname):\r\n",
    "    \"\"\"Prints the names of all files in \r\n",
    "    dirname and its subdirectories.\r\n",
    "\r\n",
    "    dirname: string name of directory\r\n",
    "    \"\"\"\r\n",
    "    for root, dirs, files in os.walk(dirname):\r\n",
    "        for filename in files:\r\n",
    "            print(os.path.join(root, filename))"
   ],
   "outputs": [],
   "metadata": {}
  },
  {
   "cell_type": "markdown",
   "source": [
    "## Catching exceptions\n",
    "\n",
    "\n",
    "\n",
    "A lot of things can go wrong when you try to read and write files. If you try to open a file that doesn’t exist, you get an IOError: "
   ],
   "metadata": {}
  },
  {
   "cell_type": "code",
   "execution_count": null,
   "source": [
    "fin = open('bad_file')"
   ],
   "outputs": [],
   "metadata": {}
  },
  {
   "cell_type": "markdown",
   "source": [
    "If you don’t have permission to access a file, you will get a PermissionError. If you try to open a directory for reading, you get an IsADirectoryError.\n",
    "\n",
    "To avoid these errors, you could use functions like <code>os.path.exists</code> and <code>os.path.isfile</code>, but it would take a lot of time and code to check all the possibilities (if “<code>Errno 2</code>” is any indication, there are at least 21 things that can go wrong).\n",
    "\n",
    "It is better to go ahead and try—and deal with problems if they happen—which is exactly what the try statement does. The syntax is similar to an <code>if...else</code> statement:"
   ],
   "metadata": {}
  },
  {
   "cell_type": "code",
   "execution_count": null,
   "source": [
    "try:    \r\n",
    "    fin = open('bad_file')\r\n",
    "except:\r\n",
    "    print('Something went wrong.')"
   ],
   "outputs": [],
   "metadata": {}
  },
  {
   "cell_type": "markdown",
   "source": [
    "Python starts by executing the <code>try</code> clause. If all goes well, it skips the <code>except</code> clause and proceeds. If an exception occurs, it jumps out of the <code>try</code> clause and runs the <code>except</code> clause.\n",
    "\n",
    "Handling an exception with a <code>try</code> statement is called catching an exception. In this example, the <code>except</code> clause prints an error message that is not very helpful. In general, catching an exception gives you a chance to fix the problem, or try again, or at least end the program gracefully."
   ],
   "metadata": {}
  },
  {
   "cell_type": "markdown",
   "source": [
    "## Databases\n",
    "\n",
    "\n",
    "A **database** is a file that is organized for storing data. Many databases are organized like a dictionary in the sense that they map from keys to values. The biggest difference between a database and a dictionary is that the database is on disk (or other permanent storage), so it persists after the program ends.\n",
    "\n",
    "The module <code>dbm</code> provides an interface for creating and updating database files. It is the smiplest databse module. I **do not** recommend it as a database solution for future project.\n",
    "\n",
    "### ***Exercise 02***\n",
    "\n",
    "1. Read *db_demo.py* to learn how to create a database using `dbm` module, how to insert data and how to close the database.\n",
    "2. Read *sqlite3_demo.py* to learn how to access a database with SQL query language using `sqlite3` module."
   ],
   "metadata": {}
  },
  {
   "cell_type": "markdown",
   "source": [
    "## Pickling"
   ],
   "metadata": {}
  },
  {
   "cell_type": "markdown",
   "source": [
    "\n",
    "A limitation of <code>dbm</code> is that the keys and values have to be strings or bytes. If you try to use any other type, you get an error.\n",
    "\n",
    "The <code>pickle</code> module can help. It translates almost any type of object into a string suitable for storage in a database, and then translates strings back into objects.\n",
    "\n",
    "<code>pickle.dumps</code> takes an object as a parameter and returns a string representation (dumps is short for “dump string”):"
   ],
   "metadata": {}
  },
  {
   "cell_type": "code",
   "execution_count": null,
   "source": [
    "import pickle\r\n",
    "t = [1, 2, 3]\r\n",
    "print(pickle.dumps(t))"
   ],
   "outputs": [],
   "metadata": {}
  },
  {
   "cell_type": "markdown",
   "source": [
    "The format isn’t obvious to human readers; it is meant to be easy for <code>pickle</code> to interpret. <code>pickle.loads</code> (“load string”) reconstitutes the object:"
   ],
   "metadata": {}
  },
  {
   "cell_type": "code",
   "execution_count": null,
   "source": [
    "t1 = [1, 2, 3]\r\n",
    "s = pickle.dumps(t1)\r\n",
    "t2 = pickle.loads(s)\r\n",
    "print(t2)"
   ],
   "outputs": [],
   "metadata": {}
  },
  {
   "cell_type": "code",
   "execution_count": null,
   "source": [
    "t1 == t2"
   ],
   "outputs": [],
   "metadata": {}
  },
  {
   "cell_type": "code",
   "execution_count": null,
   "source": [
    "t1 is t2"
   ],
   "outputs": [],
   "metadata": {}
  },
  {
   "cell_type": "markdown",
   "source": [
    "## Writing modules\n",
    "\n",
    "\n",
    "Any file that contains Python code can be imported as a module. For example, suppose you have a file named <code>wc.py</code> with the following code:"
   ],
   "metadata": {}
  },
  {
   "cell_type": "code",
   "execution_count": null,
   "source": [
    "def linecount(filename):\r\n",
    "    count = 0\r\n",
    "    for line in open(filename):\r\n",
    "        count += 1\r\n",
    "    return count\r\n",
    "\r\n",
    "print(linecount('wc.py'))"
   ],
   "outputs": [],
   "metadata": {}
  },
  {
   "cell_type": "markdown",
   "source": [
    "If you run this program, it reads itself and prints the number of lines in the file, which is 7. You can also import it like this:"
   ],
   "metadata": {}
  },
  {
   "cell_type": "code",
   "execution_count": null,
   "source": [
    ">>> import wc\r\n",
    "7"
   ],
   "outputs": [],
   "metadata": {}
  },
  {
   "cell_type": "markdown",
   "source": [
    "\n",
    "Now you have a module object wc: "
   ],
   "metadata": {}
  },
  {
   "cell_type": "code",
   "execution_count": null,
   "source": [
    ">>> wc\r\n",
    "<module 'wc' from 'wc.py'>"
   ],
   "outputs": [],
   "metadata": {}
  },
  {
   "cell_type": "markdown",
   "source": [
    "\n",
    "The module object provides linecount:"
   ],
   "metadata": {}
  },
  {
   "cell_type": "code",
   "execution_count": null,
   "source": [
    ">>> wc.linecount('wc.py')\r\n",
    "7"
   ],
   "outputs": [],
   "metadata": {}
  },
  {
   "cell_type": "markdown",
   "source": [
    "So that’s how you write modules in Python.\n",
    "\n",
    "The only problem with this example is that when you import the module it runs the test code at the bottom. Normally when you import a module, it defines new functions but it doesn’t run them.\n",
    "\n",
    "Programs that will be imported as modules often use the following idiom:"
   ],
   "metadata": {}
  },
  {
   "cell_type": "code",
   "execution_count": null,
   "source": [
    "if __name__ == '__main__':\r\n",
    "    print(linecount('wc.py'))"
   ],
   "outputs": [],
   "metadata": {}
  },
  {
   "cell_type": "markdown",
   "source": [
    "<code>__name__</code> is a built-in variable that is set when the program starts. If the program is running as a script, <code>__name__</code> has the value <code>'__main__'</code>; in that case, the test code runs. Otherwise, if the module is being imported, the test code is skipped."
   ],
   "metadata": {}
  },
  {
   "cell_type": "markdown",
   "source": [
    "### ***Exercise 03*** (optional) \n",
    "\n",
    "In a large collection of MP3 files, there may be more than one copy of the same song, stored in different directories or with different file names. The goal of this exercise is to search for duplicates.\n",
    "\n",
    "1. Write a program that searches a directory and all of its subdirectories, recursively, and returns a list of complete paths for all files with a given suffix (like .mp3). Hint: os.path provides several useful functions for manipulating file and path names.\n",
    "\n",
    "2. To recognize duplicates, you can use md5() to compute a a hash for each files. If two files have the same hash, they probably have the same contents.\n",
    "https://docs.python.org/3/library/hashlib.html"
   ],
   "metadata": {}
  }
 ],
 "metadata": {
  "anaconda-cloud": {},
  "kernelspec": {
   "display_name": "Python 3",
   "language": "python",
   "name": "python3"
  },
  "language_info": {
   "codemirror_mode": {
    "name": "ipython",
    "version": 3
   },
   "file_extension": ".py",
   "mimetype": "text/x-python",
   "name": "python",
   "nbconvert_exporter": "python",
   "pygments_lexer": "ipython3",
   "version": "3.8.10"
  }
 },
 "nbformat": 4,
 "nbformat_minor": 4
}