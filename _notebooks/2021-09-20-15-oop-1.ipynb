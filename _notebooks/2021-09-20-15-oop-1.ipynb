{
 "cells": [
  {
   "cell_type": "markdown",
   "source": [
    "# 15. Classes and Objects\r\n",
    "> Object-Oriented Programming 1\r\n",
    "\r\n",
    "- toc: true\r\n",
    "- badges: true\r\n",
    "- comments: true\r\n",
    "- categories: [python]\r\n",
    "- author: Zhi Li\r\n",
    "- sticky_rank: 15\r\n",
    "\r\n"
   ],
   "metadata": {}
  },
  {
   "cell_type": "markdown",
   "source": [
    "\r\n",
    "## Programmer-defined types\r\n",
    "\r\n",
    "We have learned a lot of Python's built-in types. Now let's define a new type: <code>Point</code>, to represent a point in 2-D space.\r\n",
    "\r\n",
    "There are several ways we might represent points in Python:\r\n",
    "\r\n",
    "- We could store the coordinates separately in **two variables**, `x` and `y`.\r\n",
    "- We could store the coordinates as elements in a **list** or **tuple**.\r\n",
    "- We could create a new type to represent points as **objects**.\r\n",
    "\r\n",
    "Creating a new type is more complicated than the other options, but it has advantages that will be apparent soon.\r\n",
    "\r\n",
    "A programmer-defined type is also called a **class**. A class definition looks like this: "
   ],
   "metadata": {}
  },
  {
   "cell_type": "code",
   "execution_count": 1,
   "source": [
    "class Point:\r\n",
    "    \"\"\"Represents a point in 2-D space.\"\"\""
   ],
   "outputs": [],
   "metadata": {}
  },
  {
   "cell_type": "markdown",
   "source": [
    "The header indicates that the new class is called <code>Point</code>. The body is a docstring that explains what the class is for. You can define variables and methods inside a class definition, but we will get back to that later. \n",
    "\n",
    "\n",
    "The class object is like a factory for creating objects. To create a Point, you call <code>Point</code> as if it were a function."
   ],
   "metadata": {}
  },
  {
   "cell_type": "code",
   "execution_count": 2,
   "source": [
    "my_point = Point()\r\n",
    "my_point"
   ],
   "outputs": [
    {
     "output_type": "execute_result",
     "data": {
      "text/plain": [
       "<__main__.Point at 0x1b4e7fbf208>"
      ]
     },
     "metadata": {},
     "execution_count": 2
    }
   ],
   "metadata": {}
  },
  {
   "cell_type": "markdown",
   "source": [
    "The return value is a reference to a Point object, which we assign to <code>my_point</code>.\n",
    "\n",
    "Creating a new object is called **instantiation**, and the object is an **instance** of the class. "
   ],
   "metadata": {}
  },
  {
   "cell_type": "code",
   "execution_count": 3,
   "source": [
    "print(type(my_point))\r\n",
    "print(isinstance(my_point, Point))"
   ],
   "outputs": [
    {
     "output_type": "stream",
     "name": "stdout",
     "text": [
      "<class '__main__.Point'>\n",
      "True\n"
     ]
    }
   ],
   "metadata": {}
  },
  {
   "cell_type": "markdown",
   "source": [
    "## Attributes\n",
    "\n"
   ],
   "metadata": {}
  },
  {
   "cell_type": "code",
   "execution_count": 4,
   "source": [
    "# You can assign values to an instance using dot notation:\r\n",
    "my_point.x = 3\r\n",
    "my_point.y = 4"
   ],
   "outputs": [],
   "metadata": {}
  },
  {
   "cell_type": "markdown",
   "source": [
    "The variable <code>my_point</code> refers to a `Point` object, which contains two attributes. Each attribute refers to a floating-point number."
   ],
   "metadata": {}
  },
  {
   "cell_type": "code",
   "execution_count": 5,
   "source": [
    "print(my_point.x)\r\n",
    "print(my_point.y)\r\n",
    "x = my_point.y\r\n",
    "print(x)\r\n",
    "print(my_point.x)"
   ],
   "outputs": [
    {
     "output_type": "stream",
     "name": "stdout",
     "text": [
      "3\n",
      "4\n",
      "4\n",
      "3\n"
     ]
    }
   ],
   "metadata": {}
  },
  {
   "cell_type": "markdown",
   "source": [
    "The expression <code>my_point.y</code> means, “Go to the object <code>my_point</code> refers to and get the value of <code>y</code>.” In the example, we assign that value to a variable named <code>x</code>. There is no conflict between the variable <code>x</code> and the attribute <code>x</code>.\n",
    "\n",
    "You can use dot notation as part of any expression. For example:\n"
   ],
   "metadata": {}
  },
  {
   "cell_type": "code",
   "execution_count": 6,
   "source": [
    "import math\r\n",
    "\r\n",
    "print(f'({my_point.x}, {my_point.y})')\r\n",
    "distance = math.sqrt(my_point.x**2 + my_point.y**2)\r\n",
    "print(distance)"
   ],
   "outputs": [
    {
     "output_type": "stream",
     "name": "stdout",
     "text": [
      "(3, 4)\n",
      "5.0\n"
     ]
    }
   ],
   "metadata": {}
  },
  {
   "cell_type": "markdown",
   "source": [
    "You can pass an instance as an argument in the usual way. For example:"
   ],
   "metadata": {}
  },
  {
   "cell_type": "code",
   "execution_count": 7,
   "source": [
    "def print_point(p):\r\n",
    "    print(f'({p.x}, {p.y})')\r\n",
    "    \r\n",
    "print_point(my_point)"
   ],
   "outputs": [
    {
     "output_type": "stream",
     "name": "stdout",
     "text": [
      "(3, 4)\n"
     ]
    }
   ],
   "metadata": {}
  },
  {
   "cell_type": "markdown",
   "source": [
    "Inside the function, <code>p</code> is an alias for <code>my_point</code>, so if the function modifies <code>p</code>, <code>my_point</code> changes. \n",
    "\n",
    "\n",
    "If you are not sure whether an object has a particular attribute, you can use the built-in function hasattr: "
   ],
   "metadata": {}
  },
  {
   "cell_type": "code",
   "execution_count": 8,
   "source": [
    "print(hasattr(my_point, 'x'))\r\n",
    "print(hasattr(my_point, 'z'))"
   ],
   "outputs": [
    {
     "output_type": "stream",
     "name": "stdout",
     "text": [
      "True\n",
      "False\n"
     ]
    }
   ],
   "metadata": {}
  },
  {
   "cell_type": "markdown",
   "source": [
    "### ***Exercise 01***\n",
    "\n",
    "Write a function called <code>distance_between_points</code> that takes two Points as arguments and returns the distance between them."
   ],
   "metadata": {}
  },
  {
   "cell_type": "markdown",
   "source": [
    "## Rectangular\n",
    "\n",
    "Imagine you are designing a class to represent rectangles. What attributes would you use to specify the location and size of a rectangle? You can ignore angle; to keep things simple, assume that the rectangle is either vertical or horizontal. "
   ],
   "metadata": {}
  },
  {
   "cell_type": "code",
   "execution_count": 9,
   "source": [
    "class Rectangle:\r\n",
    "    \"\"\"Represents a rectangle. \r\n",
    "\r\n",
    "    attributes: width, height, corner.\r\n",
    "    \"\"\""
   ],
   "outputs": [],
   "metadata": {}
  },
  {
   "cell_type": "markdown",
   "source": [
    "The docstring lists the attributes: width and height are numbers; corner is a Point object that specifies the lower-left corner."
   ],
   "metadata": {}
  },
  {
   "cell_type": "code",
   "execution_count": 10,
   "source": [
    "box = Rectangle()\r\n",
    "box.width = 100.0\r\n",
    "box.height = 200.0\r\n",
    "box.corner = Point() \r\n",
    "box.corner.x = 0.0\r\n",
    "box.corner.y = 0.0"
   ],
   "outputs": [],
   "metadata": {}
  },
  {
   "cell_type": "markdown",
   "source": [
    "An object that is an attribute of another object is **embedded**. "
   ],
   "metadata": {}
  },
  {
   "cell_type": "markdown",
   "source": [
    "### Instances as return values"
   ],
   "metadata": {}
  },
  {
   "cell_type": "code",
   "execution_count": 11,
   "source": [
    "def find_center(rect):\r\n",
    "    p = Point()\r\n",
    "    p.x = rect.corner.x + rect.width/2\r\n",
    "    p.y = rect.corner.y + rect.height/2\r\n",
    "    return p\r\n",
    "\r\n",
    "center = find_center(box)\r\n",
    "print_point(center)"
   ],
   "outputs": [
    {
     "output_type": "stream",
     "name": "stdout",
     "text": [
      "(50.0, 100.0)\n"
     ]
    }
   ],
   "metadata": {}
  },
  {
   "cell_type": "markdown",
   "source": [
    "## Objects are mutable"
   ],
   "metadata": {}
  },
  {
   "cell_type": "code",
   "execution_count": 12,
   "source": [
    "box.width = box.width + 50\r\n",
    "box.height = box.height + 100"
   ],
   "outputs": [],
   "metadata": {}
  },
  {
   "cell_type": "markdown",
   "source": [
    "You can also write functions that modify objects. "
   ],
   "metadata": {}
  },
  {
   "cell_type": "code",
   "execution_count": 13,
   "source": [
    "def grow_rectangle(rect, dwidth, dheight):\r\n",
    "    rect.width += dwidth\r\n",
    "    rect.height += dheight\r\n",
    "    \r\n",
    "print(box.width)\r\n",
    "print(box.height)\r\n",
    "print('grow')\r\n",
    "grow_rectangle(box, 50, 100)\r\n",
    "print(box.width)\r\n",
    "print(box.height)"
   ],
   "outputs": [
    {
     "output_type": "stream",
     "name": "stdout",
     "text": [
      "150.0\n",
      "300.0\n",
      "grow\n",
      "200.0\n",
      "400.0\n"
     ]
    }
   ],
   "metadata": {}
  },
  {
   "cell_type": "markdown",
   "source": [
    "## Copying\n"
   ],
   "metadata": {}
  },
  {
   "cell_type": "code",
   "execution_count": 14,
   "source": [
    "p1 = Point()\r\n",
    "p1.x = 3.0\r\n",
    "p1.y = 4.0\r\n",
    "\r\n",
    "import copy\r\n",
    "p2 = copy.copy(p1)\r\n",
    "\r\n",
    "print_point(p1)\r\n",
    "print_point(p2)"
   ],
   "outputs": [
    {
     "output_type": "stream",
     "name": "stdout",
     "text": [
      "(3.0, 4.0)\n",
      "(3.0, 4.0)\n"
     ]
    }
   ],
   "metadata": {}
  },
  {
   "cell_type": "markdown",
   "source": [
    "`p1` and `p2` contain the same data, but they are not the same `Point`."
   ],
   "metadata": {}
  },
  {
   "cell_type": "code",
   "execution_count": 15,
   "source": [
    "print(p1 is p2)\r\n",
    "print(p1 == p2)"
   ],
   "outputs": [
    {
     "output_type": "stream",
     "name": "stdout",
     "text": [
      "False\n",
      "False\n"
     ]
    }
   ],
   "metadata": {}
  },
  {
   "cell_type": "markdown",
   "source": [
    "Because for programmer-defined types, Python doesn’t know what should be considered equivalent. At least, not yet. "
   ],
   "metadata": {}
  },
  {
   "cell_type": "markdown",
   "source": [
    "### ***Exercise 02***\n",
    "\n",
    "Write a definition for a class named <code>Circle</code> with attributes <code>center</code> and <code>radius</code>, where <code>center</code> is a <code>Point</code> object and <code>radius</code> is a number.\n",
    "\n",
    "Instantiate a `Circle` object that represents a circle with its center at (150, 100) and radius 75.\n",
    "\n",
    "Write a function named <code>point_in_circle</code> that takes a Circle and a Point and returns <code>True</code> if the Point lies in or on the boundary of the circle.\n",
    "\n",
    "Write a function named <code>rect_in_circle</code> that takes a Circle and a Rectangle and returns <code>True</code> if the Rectangle lies entirely in or on the boundary of the circle.\n",
    "\n",
    "Write a function named <code>rect_circle_overlap</code> that takes a Circle and a Rectangle and returns <code>True</code> if any of the corners of the Rectangle fall inside the circle. Or as a more challenging version, return <code>True</code> if any part of the Rectangle falls inside the circle."
   ],
   "metadata": {}
  }
 ],
 "metadata": {
  "anaconda-cloud": {},
  "kernelspec": {
   "display_name": "Python 3",
   "language": "python",
   "name": "python3"
  },
  "language_info": {
   "codemirror_mode": {
    "name": "ipython",
    "version": 3
   },
   "file_extension": ".py",
   "mimetype": "text/x-python",
   "name": "python",
   "nbconvert_exporter": "python",
   "pygments_lexer": "ipython3",
   "version": "3.8.10"
  }
 },
 "nbformat": 4,
 "nbformat_minor": 4
}