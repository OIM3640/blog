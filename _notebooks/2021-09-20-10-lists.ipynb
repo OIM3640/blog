{
 "cells": [
  {
   "cell_type": "markdown",
   "source": [
    "# 10. Lists\r\n",
    "> All about list, one of the most used data structures in Python\r\n",
    "\r\n",
    "- toc: true\r\n",
    "- badges: true\r\n",
    "- comments: true\r\n",
    "- categories: [python]\r\n",
    "- author: Zhi Li\r\n",
    "- sticky_rank: 10"
   ],
   "metadata": {}
  },
  {
   "cell_type": "markdown",
   "source": [
    "\r\n",
    "Lists are:\r\n",
    "- Ordered collections of arbitrary objects\r\n",
    "- Accessed by offset\r\n",
    "- Variable-length, heterogeneous, and arbitrarily nestable\r\n",
    "- Of the category “mutable sequence”\r\n",
    "- Arrays of object references\r\n",
    "\r\n",
    "\r\n",
    "##  List is a sequence\r\n",
    "\r\n",
    "Like a string, a list is a sequence of values. In a string, the values are characters; in a list, they can be any type. The values in a list are called elements or sometimes items. \r\n",
    "\r\n",
    "To create a new list:\r\n"
   ],
   "metadata": {}
  },
  {
   "cell_type": "code",
   "execution_count": null,
   "source": [
    "[10, 20, 30, 40]\r\n",
    "['New England Patriots', 'Buffalo Bills', 'Miami Dolphins', 'New York Jets']"
   ],
   "outputs": [],
   "metadata": {}
  },
  {
   "cell_type": "code",
   "execution_count": null,
   "source": [
    "# The elements of a list don’t have to be the same type. \r\n",
    "# A list within another list is nested. \r\n",
    "['spam', 2.0, 5, [10, 20]] "
   ],
   "outputs": [],
   "metadata": {}
  },
  {
   "cell_type": "code",
   "execution_count": null,
   "source": [
    "AFC_east = ['New England Patriots', 'Buffalo Bills', 'Miami Dolphins', 'New York Jets']\r\n",
    "numbers = [42, 123]\r\n",
    "empty = []\r\n",
    "print(AFC_east, numbers, empty)"
   ],
   "outputs": [],
   "metadata": {}
  },
  {
   "cell_type": "markdown",
   "source": [
    "## Lists are mutable\n",
    "\n",
    "The syntax for accessing the elements of a list is the same as for accessing the characters of a string—the bracket operator."
   ],
   "metadata": {}
  },
  {
   "cell_type": "code",
   "execution_count": null,
   "source": [
    "AFC_east[3] = 'New York Giants'\r\n",
    "print(AFC_east)"
   ],
   "outputs": [],
   "metadata": {}
  },
  {
   "cell_type": "markdown",
   "source": [
    "If you still remember, strings are **immutable**.\n",
    "\n",
    "\n",
    "List indices work the same way as string indices:\n",
    "- Any integer expression can be used as an index.\n",
    "- If you try to read or write an element that does not exist, you get an `IndexError`.\n",
    "- If an index has a negative value, it counts backward from the end of the list.\n",
    "\n",
    "The `in` operator also works on lists."
   ],
   "metadata": {}
  },
  {
   "cell_type": "code",
   "execution_count": null,
   "source": [
    "AFC_east = ['New England Patriots', 'Buffalo Bills', 'Miami Dolphins', 'New York Jets']\r\n",
    "print('Buffalo Bills' in AFC_east)"
   ],
   "outputs": [],
   "metadata": {
    "scrolled": true
   }
  },
  {
   "cell_type": "markdown",
   "source": [
    "### ***Exercise 01***\n",
    "\n",
    "What is the index of <code>'Apple'</code>? <code>'Lisa'</code>? <code>'On Rail'</code>?"
   ],
   "metadata": {}
  },
  {
   "cell_type": "code",
   "execution_count": null,
   "source": [
    "L = [\r\n",
    "    ['Apple', 'Google', 'Microsoft'],\r\n",
    "    ['Java', 'Python', ['Ruby', 'On Rail'], 'PHP'],\r\n",
    "    ['Adam', 'Bart', 'Lisa']    \r\n",
    "]"
   ],
   "outputs": [],
   "metadata": {}
  },
  {
   "cell_type": "markdown",
   "source": [
    "### Traversing a list\n",
    "\n"
   ],
   "metadata": {}
  },
  {
   "cell_type": "code",
   "execution_count": null,
   "source": [
    "for team in AFC_east:\r\n",
    "    print(team)"
   ],
   "outputs": [],
   "metadata": {}
  },
  {
   "cell_type": "code",
   "execution_count": null,
   "source": [
    "numbers = [2, 0, 1, 6, 9]\r\n",
    "\r\n",
    "for i in range(len(numbers)):\r\n",
    "    numbers[i] = numbers[i] * 2\r\n",
    "    \r\n",
    "print(numbers)"
   ],
   "outputs": [],
   "metadata": {}
  },
  {
   "cell_type": "markdown",
   "source": [
    "Q. What is the length of the following list?"
   ],
   "metadata": {}
  },
  {
   "cell_type": "code",
   "execution_count": null,
   "source": [
    "my_list = ['spam', 1, ['New England Patriots', \\\r\n",
    "                       'Buffalo Bills', 'Miami Dolphins', \\\r\n",
    "                       'New York Giants'], \\\r\n",
    "           [1, 2, 3]]\r\n",
    "print(len(my_list))"
   ],
   "outputs": [],
   "metadata": {}
  },
  {
   "cell_type": "markdown",
   "source": [
    "## List operations"
   ],
   "metadata": {}
  },
  {
   "cell_type": "code",
   "execution_count": null,
   "source": [
    "a = [1, 2, 3]\r\n",
    "b = [4, 5, 6]\r\n",
    "c = a + b\r\n",
    "print(c)"
   ],
   "outputs": [],
   "metadata": {}
  },
  {
   "cell_type": "code",
   "execution_count": null,
   "source": [
    "[0] * 4"
   ],
   "outputs": [],
   "metadata": {}
  },
  {
   "cell_type": "code",
   "execution_count": null,
   "source": [
    "['Tom Brady', 'Bill Belichick'] * 3"
   ],
   "outputs": [],
   "metadata": {}
  },
  {
   "cell_type": "markdown",
   "source": [
    "## List slices\n",
    "\n",
    "The slice operator is the same as the one for strings.\n"
   ],
   "metadata": {}
  },
  {
   "cell_type": "code",
   "execution_count": null,
   "source": [
    "t = ['a', 'b', 'c', 'd', 'e', 'f']"
   ],
   "outputs": [],
   "metadata": {}
  },
  {
   "cell_type": "markdown",
   "source": [
    "Q. How do we get <code>['b', 'c']? ['a', 'b', 'c', 'd']? ['d', 'e', 'f'] </code>? The entire list?"
   ],
   "metadata": {}
  },
  {
   "cell_type": "code",
   "execution_count": null,
   "source": [
    "t = ['a', 'b', 'c', 'd', 'e', 'f']\r\n",
    "t[1:3] = ['x', 'y']\r\n",
    "print(t)"
   ],
   "outputs": [],
   "metadata": {}
  },
  {
   "cell_type": "markdown",
   "source": [
    "## List methods\n",
    "\n",
    "\n",
    "\n",
    "### ***Exercise 02***\n",
    "\n",
    "Read the [documentation](https://docs.python.org/3/tutorial/datastructures.html#more-on-lists) of the list methods. You might want to experiment with some of them to make sure you understand how they work. `append`, `extend` and `sort` are particularly useful.\n"
   ],
   "metadata": {}
  },
  {
   "cell_type": "code",
   "execution_count": null,
   "source": [
    "# Example of list methods\r\n",
    "t = ['a', 'b', 'c']\r\n",
    "t.append('d')"
   ],
   "outputs": [],
   "metadata": {}
  },
  {
   "cell_type": "markdown",
   "source": [
    "### ***Exercise 3***\n",
    "\n",
    "Finish ***list_exercises.py***. (You can find the Python file in [resources/code](https://github.com/OIM3640/resources/tree/main/code) on GitHub.)\n"
   ],
   "metadata": {}
  },
  {
   "cell_type": "markdown",
   "source": [
    "## map, reduce and filter\n",
    "\n",
    "Sometimes you want to traverse one list while building another. For example, the following function takes a list of strings and returns a new list that contains capitalized strings:"
   ],
   "metadata": {}
  },
  {
   "cell_type": "code",
   "execution_count": null,
   "source": [
    "def capitalize_all(t):\r\n",
    "    res = []\r\n",
    "    for s in t:\r\n",
    "        res.append(s.capitalize())\r\n",
    "    return res"
   ],
   "outputs": [],
   "metadata": {}
  },
  {
   "cell_type": "markdown",
   "source": [
    "An operation like <code>capitalize_all</code> is sometimes called a **map** because it “maps” a function (in this case the method <code>capitalize</code>) onto each of the elements in a sequence. "
   ],
   "metadata": {}
  },
  {
   "cell_type": "code",
   "execution_count": null,
   "source": [
    "t = [1, 2, 3]\r\n",
    "print(sum(t))"
   ],
   "outputs": [],
   "metadata": {}
  },
  {
   "cell_type": "markdown",
   "source": [
    "An operation like <code>sum</code> that combines a sequence of elements into a single value is sometimes called **reduce**. \n",
    "\n",
    "Another common operation is to select some of the elements from a list and return a sublist. For example, the following function, `only_upper`, takes a list of strings and returns a list that contains only the uppercase strings:"
   ],
   "metadata": {}
  },
  {
   "cell_type": "code",
   "execution_count": null,
   "source": [
    "def only_upper(t):\r\n",
    "    res = []\r\n",
    "    for s in t:\r\n",
    "        if s.isupper():\r\n",
    "            res.append(s)\r\n",
    "    return res"
   ],
   "outputs": [],
   "metadata": {}
  },
  {
   "cell_type": "markdown",
   "source": [
    "<code>isupper</code> is a string method that returns <code>True</code> if the string contains only upper case letters.\n",
    "\n",
    "An operation like <code>only_upper</code> is called a **filter** because it selects some of the elements and filters out the others."
   ],
   "metadata": {}
  },
  {
   "cell_type": "markdown",
   "source": [
    "## Deleting elements\n"
   ],
   "metadata": {}
  },
  {
   "cell_type": "code",
   "execution_count": null,
   "source": [
    "t = ['a', 'b', 'c', 'd']\r\n",
    "x = t.pop(1)\r\n",
    "# pop modifies the list and returns \r\n",
    "# the element that was removed. \r\n",
    "print(x)\r\n",
    "print(t)"
   ],
   "outputs": [],
   "metadata": {}
  },
  {
   "cell_type": "code",
   "execution_count": null,
   "source": [
    "x = t.pop()\r\n",
    "# If you don’t provide an index, \r\n",
    "# it deletes and returns the last element.\r\n",
    "print(x)\r\n",
    "print(t)\r\n"
   ],
   "outputs": [],
   "metadata": {}
  },
  {
   "cell_type": "markdown",
   "source": [
    "Another way to remove an item or items from a list: <code>del</code>\n",
    "\n",
    "https://docs.python.org/3.9/tutorial/datastructures.html#the-del-statement\n"
   ],
   "metadata": {}
  },
  {
   "cell_type": "code",
   "execution_count": null,
   "source": [
    "t = ['a', 'b', 'c', 'd', 'e']\r\n",
    "del t[1:3]\r\n",
    "print(t)"
   ],
   "outputs": [],
   "metadata": {}
  },
  {
   "cell_type": "markdown",
   "source": [
    "If you know the element you want to remove (but not the index), you can use `remove`: "
   ],
   "metadata": {}
  },
  {
   "cell_type": "code",
   "execution_count": null,
   "source": [
    "t = ['a', 'b', 'c']\r\n",
    "t.remove('b')\r\n",
    "print(t)"
   ],
   "outputs": [],
   "metadata": {}
  },
  {
   "cell_type": "markdown",
   "source": [
    "## Lists and strings\n",
    "\n",
    "To convert from a string to a list of characters, you can use <code>list</code>: "
   ],
   "metadata": {}
  },
  {
   "cell_type": "code",
   "execution_count": null,
   "source": [
    "team = 'Patriots'\r\n",
    "t = list(team)\r\n",
    "print(t)"
   ],
   "outputs": [],
   "metadata": {}
  },
  {
   "cell_type": "markdown",
   "source": [
    "Because <code>list</code> is the name of a built-in function, you should **avoid** using it as a variable name. I also **avoid** <code>l</code> because it looks too much like <code>1</code>. \n",
    "\n",
    "If you want to break a string into words, you can use the <code>split</code> method: "
   ],
   "metadata": {}
  },
  {
   "cell_type": "code",
   "execution_count": null,
   "source": [
    "team = 'New England Patriots'\r\n",
    "t = team.split()\r\n",
    "print(t)"
   ],
   "outputs": [],
   "metadata": {}
  },
  {
   "cell_type": "markdown",
   "source": [
    "An optional argument called a **delimiter** specifies which characters to use as word boundaries. The following example uses a hyphen as a delimiter: "
   ],
   "metadata": {}
  },
  {
   "cell_type": "code",
   "execution_count": null,
   "source": [
    "s = 'spam-spam-spam'\r\n",
    "delimiter = '-'\r\n",
    "t = s.split(delimiter)\r\n",
    "print(t)"
   ],
   "outputs": [],
   "metadata": {}
  },
  {
   "cell_type": "markdown",
   "source": [
    "<code>join</code> is the inverse of <code>split</code>."
   ],
   "metadata": {}
  },
  {
   "cell_type": "code",
   "execution_count": null,
   "source": [
    "t = ['New', 'England', 'Patriots']\r\n",
    "team = ' '.join(t)\r\n",
    "print(team)"
   ],
   "outputs": [],
   "metadata": {}
  },
  {
   "cell_type": "markdown",
   "source": [
    "Q. How do we get <code>'New!!England!!Patriots'</code>?"
   ],
   "metadata": {}
  },
  {
   "cell_type": "markdown",
   "source": [
    "## Objects and values\n"
   ],
   "metadata": {}
  },
  {
   "cell_type": "code",
   "execution_count": null,
   "source": [
    "a = 'banana'\r\n",
    "b = 'banana'"
   ],
   "outputs": [],
   "metadata": {}
  },
  {
   "cell_type": "markdown",
   "source": [
    "How do we know whether they refer to the same string?"
   ],
   "metadata": {}
  },
  {
   "cell_type": "code",
   "execution_count": null,
   "source": [
    "a is b"
   ],
   "outputs": [],
   "metadata": {}
  },
  {
   "cell_type": "markdown",
   "source": [
    "Let's checkout the following two lists."
   ],
   "metadata": {}
  },
  {
   "cell_type": "code",
   "execution_count": null,
   "source": [
    "a = [1, 2, 3]\r\n",
    "b = [1, 2, 3]\r\n",
    "a is b"
   ],
   "outputs": [],
   "metadata": {}
  },
  {
   "cell_type": "markdown",
   "source": [
    "In this case we would say that the two lists are **equivalent**, because they have the same elements, but not **identical**, because they are not the **same object**.\n",
    "\n",
    "\n",
    "If <code>a</code> refers to an object and you assign <code>b = a</code>, then both variables refer to the same object:"
   ],
   "metadata": {}
  },
  {
   "cell_type": "code",
   "execution_count": null,
   "source": [
    "a = [1, 2, 3]\r\n",
    "b = a\r\n",
    "b is a"
   ],
   "outputs": [],
   "metadata": {}
  },
  {
   "cell_type": "markdown",
   "source": [
    "The association of a variable with an object is called a **reference**. In this example, there are two references to the same **object**.\n",
    "\n",
    "An object with more than one reference has more than one name, so we say that the object is **aliased**. "
   ],
   "metadata": {}
  },
  {
   "cell_type": "code",
   "execution_count": null,
   "source": [
    "b[0] = 'something else'\r\n",
    "print(a)"
   ],
   "outputs": [],
   "metadata": {}
  },
  {
   "cell_type": "markdown",
   "source": [
    "## Common mistakes when dealing with lists\n",
    "##### 1, Most list methods modify the argument and return <code>None</code>. \n"
   ],
   "metadata": {}
  },
  {
   "cell_type": "code",
   "execution_count": null,
   "source": [
    "t = t.sort()           # WRONG!"
   ],
   "outputs": [],
   "metadata": {}
  },
  {
   "cell_type": "markdown",
   "source": [
    "##### 2, Pick an idiom and stick with it.\n",
    "\n",
    "Part of the problem with lists is that there are too many ways to do things. For example, to remove an element from a list, you can use `pop`, `remove`, `del`, or even a slice assignment.\n",
    "\n",
    "To add an element, you can use the `append` method or the `+` operator. Assuming that `t` is a list and `x` is a list element, these are correct: "
   ],
   "metadata": {}
  },
  {
   "cell_type": "code",
   "execution_count": null,
   "source": [
    "t.append(x)\r\n",
    "t = t + [x]\r\n",
    "t += [x]\r\n",
    "\r\n",
    "t.append([x])          # WRONG!\r\n",
    "t = t.append(x)        # WRONG!\r\n",
    "t + [x]                # WRONG!\r\n",
    "t = t + x              # WRONG!"
   ],
   "outputs": [],
   "metadata": {}
  },
  {
   "cell_type": "markdown",
   "source": [
    "##### 3, Make copies to avoid aliasing. \n",
    "\n",
    "\n",
    "If you want to use a method like `sort` that modifies the argument, but you need to keep the original list as well, you can make a copy.\n"
   ],
   "metadata": {}
  },
  {
   "cell_type": "code",
   "execution_count": null,
   "source": [
    "t = [3, 1, 2]\r\n",
    "t2 = t[:]\r\n",
    "t2.sort()\r\n",
    "print(t)\r\n",
    "print(t2)"
   ],
   "outputs": [],
   "metadata": {}
  },
  {
   "cell_type": "markdown",
   "source": [
    "## ***Exercise 04***\n",
    "\n",
    "1\\. Finish *binary_search.py* - use bisection search to find out the index of a given number. Please refer to slides and previous code about bisection search. Below is a summary of the idea of bisection search\n",
    "\n",
    ">Because the words are in alphabetical order, we can speed things up with a **bisection search** (also known as **binary search**), which is similar to what you do when you look a word up in the dictionary. You start in the middle and check to see whether the word you are looking for comes before the word in the middle of the list. If so, then you search the first half of the list the same way. Otherwise you search the second half.\n",
    "\n",
    "\n",
    "2\\. (Optional) Two words “interlock” if taking alternating letters from each forms a new word. For example, “shoe” and “cold” interlock to form “schooled.” Finish *interlock.py*. (You may need to finish *inlist.py* first.)\n",
    "1. Write a program that finds all pairs of words that interlock. Hint: don’t enumerate all pairs!\n",
    "2. Can you find any words that are three-way interlocked; that is, every third letter forms a word, starting from the first, second or third?\n"
   ],
   "metadata": {}
  }
 ],
 "metadata": {
  "anaconda-cloud": {},
  "kernelspec": {
   "display_name": "Python 3",
   "language": "python",
   "name": "python3"
  },
  "language_info": {
   "codemirror_mode": {
    "name": "ipython",
    "version": 3
   },
   "file_extension": ".py",
   "mimetype": "text/x-python",
   "name": "python",
   "nbconvert_exporter": "python",
   "pygments_lexer": "ipython3",
   "version": "3.8.10"
  }
 },
 "nbformat": 4,
 "nbformat_minor": 4
}