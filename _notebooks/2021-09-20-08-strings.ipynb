{
 "cells": [
  {
   "cell_type": "markdown",
   "source": [
    "# 8. Strings\r\n",
    "> Just a quick introduction\r\n",
    "\r\n",
    "- toc: true\r\n",
    "- badges: true\r\n",
    "- comments: true\r\n",
    "- categories: [python]\r\n",
    "- author: Zhi Li\r\n",
    "- sticky_rank: 8"
   ],
   "metadata": {}
  },
  {
   "cell_type": "markdown",
   "source": [
    "**Strings** are not like integers, floats, and booleans. A string is a sequence, which means it is\r\n",
    "an ordered collection of other values. \r\n",
    "\r\n",
    "## Index\r\n"
   ],
   "metadata": {}
  },
  {
   "cell_type": "code",
   "execution_count": null,
   "source": [
    "team = 'New England Patriots'\r\n",
    "letter = team[1] #The expression in brackets is called an index. \r\n",
    "print(letter)"
   ],
   "outputs": [],
   "metadata": {}
  },
  {
   "cell_type": "markdown",
   "source": [
    "Q. What's the first letter?\n",
    "\n",
    "A. The first letter is the **0th** letter."
   ],
   "metadata": {}
  },
  {
   "cell_type": "code",
   "execution_count": null,
   "source": [
    "print(team[0])"
   ],
   "outputs": [],
   "metadata": {}
  },
  {
   "cell_type": "code",
   "execution_count": null,
   "source": [
    "print(team[1.5])"
   ],
   "outputs": [],
   "metadata": {}
  },
  {
   "cell_type": "markdown",
   "source": [
    "## len\n",
    "\n",
    "`len` is a built-in function that returns the number of characters in a string:"
   ],
   "metadata": {}
  },
  {
   "cell_type": "code",
   "execution_count": null,
   "source": [
    "len(team)"
   ],
   "outputs": [],
   "metadata": {}
  },
  {
   "cell_type": "markdown",
   "source": [
    "Q. How do we find the last letter?"
   ],
   "metadata": {}
  },
  {
   "cell_type": "code",
   "execution_count": null,
   "source": [
    "last = team[len(team)-1]\r\n",
    "print(last)"
   ],
   "outputs": [],
   "metadata": {}
  },
  {
   "cell_type": "code",
   "execution_count": null,
   "source": [
    "# Another way\r\n",
    "last = team[-1]\r\n",
    "print(last)"
   ],
   "outputs": [],
   "metadata": {}
  },
  {
   "cell_type": "markdown",
   "source": [
    "## Traversal with a <code>for</code> loop\n",
    "\n",
    "lots of computations involve processing a string one character at a time. Often they start at the beginning, select each character in turn, do something to it, and continue until the end. This pattern of processing is called a **traversal**. One way to write a traversal is with a <code>while</code> loop:"
   ],
   "metadata": {}
  },
  {
   "cell_type": "code",
   "execution_count": null,
   "source": [
    "index = 0\r\n",
    "while index < len(team):\r\n",
    "    letter = team[index]\r\n",
    "    print(letter)\r\n",
    "    index = index + 1"
   ],
   "outputs": [],
   "metadata": {}
  },
  {
   "cell_type": "code",
   "execution_count": null,
   "source": [
    "# Another way\r\n",
    "for letter in team:\r\n",
    "    print(letter)"
   ],
   "outputs": [],
   "metadata": {}
  },
  {
   "cell_type": "markdown",
   "source": [
    "Do you know their names?\r\n",
    "\r\n",
    "<img style=\"float: left;\" src=\"nb_images/Ducklings_in_the_Fall,_Boston_Public_Garden,_Boston,_Massachusetts.JPG\"  width=\"400\">\r\n"
   ],
   "metadata": {}
  },
  {
   "cell_type": "markdown",
   "source": [
    "In Robert McCloskey’s book *Make Way for Ducklings*, the names of the ducklings are <i>Jack, Kack, Lack, Mack, Nack, Ouack, Pack, and Quack</i>. This loop outputs these names in order:"
   ],
   "metadata": {}
  },
  {
   "cell_type": "code",
   "execution_count": 1,
   "source": [
    "prefixes = 'JKLMNOPQ'\r\n",
    "suffix = 'ack'\r\n",
    "for letter in prefixes:\r\n",
    "    print(letter + suffix)"
   ],
   "outputs": [
    {
     "output_type": "stream",
     "name": "stdout",
     "text": [
      "Jack\n",
      "Kack\n",
      "Lack\n",
      "Mack\n",
      "Nack\n",
      "Oack\n",
      "Pack\n",
      "Qack\n"
     ]
    }
   ],
   "metadata": {}
  },
  {
   "cell_type": "markdown",
   "source": [
    "### ***Exercise 01***\n",
    "\n",
    "Modify the program to fix the names of *Ouack* and *Quack*."
   ],
   "metadata": {}
  },
  {
   "cell_type": "markdown",
   "source": [
    "## String slicing\n",
    "\n",
    "A segment of a string is called a slice. Selecting a slice is similar to selecting a character:"
   ],
   "metadata": {}
  },
  {
   "cell_type": "code",
   "execution_count": null,
   "source": [
    "team = 'New England Patriots'\r\n",
    "print(team[0:11])\r\n",
    "print(team[12:20])"
   ],
   "outputs": [],
   "metadata": {}
  },
  {
   "cell_type": "markdown",
   "source": [
    "If you omit the first index (before the colon), the slice starts at the beginning of the string.\n",
    "If you omit the second index, the slice goes to the end of the string:"
   ],
   "metadata": {}
  },
  {
   "cell_type": "code",
   "execution_count": null,
   "source": [
    "print(team[:11])\r\n",
    "print(team[12:])"
   ],
   "outputs": [],
   "metadata": {}
  },
  {
   "cell_type": "code",
   "execution_count": null,
   "source": [
    "team[4:3]"
   ],
   "outputs": [],
   "metadata": {}
  },
  {
   "cell_type": "markdown",
   "source": [
    "Q. what do you think `team[:]` means?"
   ],
   "metadata": {}
  },
  {
   "cell_type": "markdown",
   "source": [
    "A string slice can take a third index that specifies the “step size”; that is, the number of spaces between successive characters. A step size of 2 means every other character; 3 means every third, etc."
   ],
   "metadata": {}
  },
  {
   "cell_type": "code",
   "execution_count": null,
   "source": [
    "team[::2]"
   ],
   "outputs": [],
   "metadata": {}
  },
  {
   "cell_type": "markdown",
   "source": [
    "## Strings are immutable\n"
   ],
   "metadata": {}
  },
  {
   "cell_type": "code",
   "execution_count": null,
   "source": [
    "team = 'New England Patriots'\r\n",
    "team[12:20] ='Seahawks'"
   ],
   "outputs": [],
   "metadata": {}
  },
  {
   "cell_type": "markdown",
   "source": [
    "The reason for the error is that strings are **immutable**, which means you can’t change an existing string. The best you can do is create a new string that is a variation on the original:"
   ],
   "metadata": {}
  },
  {
   "cell_type": "code",
   "execution_count": null,
   "source": [
    "new_team = team[:12]+'Seahawks'\r\n",
    "print(new_team)"
   ],
   "outputs": [],
   "metadata": {}
  },
  {
   "cell_type": "markdown",
   "source": [
    "This example concatenates a slice of <code>team</code> onto 'Seahawks'. It has no effect on the original string <code>team</code>."
   ],
   "metadata": {}
  },
  {
   "cell_type": "code",
   "execution_count": null,
   "source": [
    "print(team)"
   ],
   "outputs": [],
   "metadata": {}
  },
  {
   "cell_type": "markdown",
   "source": [
    "## Searching\n",
    "\n",
    "What does the following function do?"
   ],
   "metadata": {}
  },
  {
   "cell_type": "code",
   "execution_count": null,
   "source": [
    "def find(word, letter):\r\n",
    "    index = 0\r\n",
    "    while index < len(word):\r\n",
    "        if word[index] == letter:\r\n",
    "            return index\r\n",
    "        index = index + 1\r\n",
    "    return -1"
   ],
   "outputs": [],
   "metadata": {}
  },
  {
   "cell_type": "code",
   "execution_count": null,
   "source": [
    "print(find(team, 'E'))"
   ],
   "outputs": [],
   "metadata": {}
  },
  {
   "cell_type": "markdown",
   "source": [
    "This pattern of computation — traversing a sequence and returning when we find what we are looking for — is called a **search**."
   ],
   "metadata": {}
  },
  {
   "cell_type": "markdown",
   "source": [
    "## Looping and counting\n",
    "\n",
    "What does the following code do?"
   ],
   "metadata": {}
  },
  {
   "cell_type": "code",
   "execution_count": null,
   "source": [
    "word = 'New England Patriots'\r\n",
    "count = 0\r\n",
    "for letter in word:\r\n",
    "    if letter == 'a':\r\n",
    "        count = count + 1\r\n",
    "print(count)"
   ],
   "outputs": [],
   "metadata": {}
  },
  {
   "cell_type": "markdown",
   "source": [
    "This program demonstrates another pattern of computation called a **counter**. The variable count is initialized to `0` and then incremented each time an `a` is found. When the loop exits, count contains the result — the total number of `a`’s.\n",
    "\n",
    "### ***Exercise 02***\n",
    "\n",
    "Encapsulate this code in a function named <code>count</code>, and generalize it so that it accepts the string and the letter as arguments.\n",
    "\n"
   ],
   "metadata": {}
  },
  {
   "cell_type": "markdown",
   "source": [
    "## String methods\n",
    "\n",
    "Strings provide methods that perform a variety of useful operations. A method is similar to a function—it takes arguments and returns a value—but the syntax is different. For example, the method `upper` takes a string and returns a new string with all uppercase letters.\n",
    "\n",
    "We will be learning more about **method** in *Object-Oriented Programming* section."
   ],
   "metadata": {}
  },
  {
   "cell_type": "code",
   "execution_count": null,
   "source": [
    "team = 'New England Patriots'\r\n",
    "new_team = team.upper()\r\n",
    "print(new_team)"
   ],
   "outputs": [],
   "metadata": {}
  },
  {
   "cell_type": "markdown",
   "source": [
    "This form of dot notation specifies the name of the method, `upper`, and the name of the string to apply the method to `team`. The empty parentheses indicate that this method takes **no arguments**.\n",
    "\n",
    "A method call is called an **invocation**; in this case, we would say that we are invoking <code>upper</code> on <code>team</code>."
   ],
   "metadata": {}
  },
  {
   "cell_type": "code",
   "execution_count": null,
   "source": [
    "team = 'New England Patriots'\r\n",
    "index = team.find('a')\r\n",
    "print(index)"
   ],
   "outputs": [],
   "metadata": {}
  },
  {
   "cell_type": "code",
   "execution_count": null,
   "source": [
    "print(team.find('En'))"
   ],
   "outputs": [],
   "metadata": {}
  },
  {
   "cell_type": "code",
   "execution_count": null,
   "source": [
    "print(team.find('a', 10)) \r\n",
    "# Read the documentation of this function to find out\r\n",
    "# what it does.\r\n",
    "# https://docs.python.org/3/library/stdtypes.html#str.find"
   ],
   "outputs": [],
   "metadata": {}
  },
  {
   "cell_type": "markdown",
   "source": [
    "This is an example of an **optional argument**; find can also take a third argument, the index where it should stop:"
   ],
   "metadata": {}
  },
  {
   "cell_type": "code",
   "execution_count": null,
   "source": [
    "name = 'bob'\r\n",
    "print(name.find('b', 1, 2))"
   ],
   "outputs": [],
   "metadata": {}
  },
  {
   "cell_type": "markdown",
   "source": [
    "### ***Exercise 03***\n",
    "\n",
    "Read the documentation of the string methods at https://docs.python.org/3/library/stdtypes.html#string-methods. You might want to experiment with some of them to make sure you understand how they work. <code>split</code>, <code>strip</code> and <code>replace</code> are particularly useful.\n",
    "\n",
    "The documentation uses a syntax that might be confusing. For example, in <code>find(sub[, start[, end]])</code>, the brackets indicate optional arguments. So <code>sub</code> is required, but <code>start</code> is optional, and if you include <code>start</code>, then <code>end</code> is optional."
   ],
   "metadata": {}
  },
  {
   "cell_type": "markdown",
   "source": [
    "## The <code>in</code> operator\n",
    "\n",
    "The word <code>in</code> is a boolean operator that takes two strings and returns `True` if the first appears as a substring in the second:"
   ],
   "metadata": {}
  },
  {
   "cell_type": "code",
   "execution_count": null,
   "source": [
    "'a' in team"
   ],
   "outputs": [],
   "metadata": {}
  },
  {
   "cell_type": "code",
   "execution_count": null,
   "source": [
    "'Boston' in team"
   ],
   "outputs": [],
   "metadata": {}
  },
  {
   "cell_type": "code",
   "execution_count": null,
   "source": [
    "# Q. What does this function do?\r\n",
    "# A. With well-chosen variable names, Python sometimes reads like English. \r\n",
    "#    Try to read this function before you execute it.\r\n",
    "def in_both(word1, word2):\r\n",
    "    for letter in word1:\r\n",
    "        if letter in word2:\r\n",
    "            print(letter)"
   ],
   "outputs": [],
   "metadata": {}
  },
  {
   "cell_type": "markdown",
   "source": [
    "## Debugging\n",
    "\n",
    "Let's go over function <code>is_reverse</code> together.\n",
    "\n",
    "\n"
   ],
   "metadata": {}
  },
  {
   "cell_type": "markdown",
   "source": [
    "### ***Exercise 04***\n",
    "\n",
    "The following functions are all intended to check whether a string contains any lowercase letters, but at least some of them are wrong. For each function, describe what the function actually does (assuming that the parameter is a string)"
   ],
   "metadata": {}
  },
  {
   "cell_type": "code",
   "execution_count": null,
   "source": [
    "def any_lowercase1(s):\r\n",
    "    for c in s:\r\n",
    "        if c.islower():\r\n",
    "            return True\r\n",
    "        else:\r\n",
    "            return False\r\n",
    "        \r\n",
    "def any_lowercase2(s):\r\n",
    "    for c in s:\r\n",
    "        if 'c'.islower():\r\n",
    "            return 'True'\r\n",
    "        else:\r\n",
    "            return 'False'\r\n",
    "\r\n",
    "def any_lowercase3(s):\r\n",
    "    for c in s:\r\n",
    "        flag = c.islower()\r\n",
    "    return flag\r\n",
    "\r\n",
    "def any_lowercase4(s):\r\n",
    "    flag = False\r\n",
    "    for c in s:\r\n",
    "        flag = flag or c.islower()\r\n",
    "    return flag\r\n",
    "\r\n",
    "def any_lowercase5(s):\r\n",
    "    for c in s:\r\n",
    "        if not c.islower():\r\n",
    "            return False\r\n",
    "    return True"
   ],
   "outputs": [],
   "metadata": {}
  },
  {
   "cell_type": "markdown",
   "source": [
    "## ***Exercise 05***\n",
    "\n",
    "A Caesar cypher is a weak form of encryption that involves “rotating” each letter by a fixed number of places. To rotate a letter means to shift it through the alphabet, wrapping around to the beginning if necessary, so ’A’ rotated by 3 is ’D’ and ’Z’ rotated by 1 is ’A’.\n",
    "\n",
    "To rotate a word, rotate each letter by the same amount. For example, “cheer” rotated by 7 is “jolly” and “melon” rotated by -10 is “cubed”. In the movie <i>2001: A Space Odyssey</i>, the ship computer is called HAL, which is IBM rotated by -1.\n",
    "\n",
    "Write a function called `rotate_word` that takes a string and an integer as parameters, and returns a new string that contains the letters from the original string rotated by the given amount.\n",
    "\n",
    "You might want to use the built-in function ord, which converts a character to a numeric code, and chr, which converts numeric codes to characters. Letters of the alphabet are encoded in alphabetical order, so for example:"
   ],
   "metadata": {}
  },
  {
   "cell_type": "code",
   "execution_count": null,
   "source": [
    "ord('c') - ord('a')"
   ],
   "outputs": [],
   "metadata": {}
  },
  {
   "cell_type": "markdown",
   "source": [
    "Because 'c' is the two-eth letter of the alphabet. But beware: the numeric codes for upper case letters are different.\n",
    "\n",
    "Potentially offensive jokes on the Internet are sometimes encoded in ROT13, which is a Caesar cypher with rotation 13. If you are not easily offended, find and decode some of them.\n",
    "\n",
    "Then try to solve the level 1 of http://www.pythonchallenge.com."
   ],
   "metadata": {}
  }
 ],
 "metadata": {
  "anaconda-cloud": {},
  "kernelspec": {
   "display_name": "Python 3",
   "language": "python",
   "name": "python3"
  },
  "language_info": {
   "codemirror_mode": {
    "name": "ipython",
    "version": 3
   },
   "file_extension": ".py",
   "mimetype": "text/x-python",
   "name": "python",
   "nbconvert_exporter": "python",
   "pygments_lexer": "ipython3",
   "version": "3.8.10"
  }
 },
 "nbformat": 4,
 "nbformat_minor": 4
}