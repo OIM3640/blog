{
 "cells": [
  {
   "cell_type": "markdown",
   "source": [
    "# 02 - Variables, Expressions and Statements\r\n",
    "> Just a quick introduction to some foundamental elements in programming.\r\n",
    "\r\n",
    "- toc: true\r\n",
    "- badges: true\r\n",
    "- comments: true\r\n",
    "- categories: [python]\r\n",
    "- author: Zhi Li\r\n",
    "- sticky_rank: 2"
   ],
   "metadata": {}
  },
  {
   "cell_type": "markdown",
   "source": [
    "# Variables, Expressions and Statements\r\n",
    "\r\n",
    "\r\n",
    "## Input and Output\r\n",
    "\r\n",
    "The simplest way to input and output is to use the built-in functions <code>print()</code> and <code>input()</code>.\r\n",
    "\r\n",
    "### Output\r\n"
   ],
   "metadata": {}
  },
  {
   "cell_type": "code",
   "execution_count": null,
   "source": [
    "print('Hello, World!')\r\n",
    "print('Hey Jude', 'don\\'t make it bad')"
   ],
   "outputs": [],
   "metadata": {}
  },
  {
   "cell_type": "code",
   "execution_count": null,
   "source": [
    "print ('The total number of overall medals in Tokyo 2020 is', 39 + 41 + 33)\r\n",
    "print ('39 + 41 + 33 =', 39 + 41 + 33)"
   ],
   "outputs": [],
   "metadata": {}
  },
  {
   "cell_type": "markdown",
   "source": [
    "### Input\n",
    "\n",
    "Python provides a built-in function called `input` that stops the program and waits for the user to type something. When the user presses Return or Enter, the program resumes and `input` returns what the user typed as a string."
   ],
   "metadata": {}
  },
  {
   "cell_type": "code",
   "execution_count": null,
   "source": [
    "name = input()"
   ],
   "outputs": [],
   "metadata": {}
  },
  {
   "cell_type": "code",
   "execution_count": null,
   "source": [
    "name"
   ],
   "outputs": [],
   "metadata": {}
  },
  {
   "cell_type": "markdown",
   "source": [
    "**Question**: What is a **variable**?"
   ],
   "metadata": {}
  },
  {
   "cell_type": "code",
   "execution_count": null,
   "source": [
    "print(name)"
   ],
   "outputs": [],
   "metadata": {}
  },
  {
   "cell_type": "markdown",
   "source": [
    "### ***Exercise 01***\n",
    "\n",
    "Modify *hello.py* to"
   ],
   "metadata": {}
  },
  {
   "cell_type": "code",
   "execution_count": null,
   "source": [
    "name = input()\r\n",
    "print('Hello, ', name)"
   ],
   "outputs": [],
   "metadata": {}
  },
  {
   "cell_type": "markdown",
   "source": [
    "Then rewrite it to ask user to enter his/her name first."
   ],
   "metadata": {}
  },
  {
   "cell_type": "markdown",
   "source": [
    "## Assignment statements\n",
    "\n",
    "An assignment statement creates a new variable and gives it a value:"
   ],
   "metadata": {}
  },
  {
   "cell_type": "code",
   "execution_count": null,
   "source": [
    "message = 'I did something cool today!'\r\n",
    "n = 100\r\n",
    "pi = 3.14"
   ],
   "outputs": [],
   "metadata": {}
  },
  {
   "cell_type": "markdown",
   "source": [
    "## Variable names\n",
    "\n",
    "- anything meaningful\n",
    "- any length\n",
    "- can contain letters, numbers and underscore _\n",
    "- not begin with number\n",
    "- conventionally only lower case\n",
    "\n",
    "### Ilegal names\n"
   ],
   "metadata": {}
  },
  {
   "cell_type": "code",
   "execution_count": null,
   "source": [
    "76ers = 'Philadelphia 76ers'"
   ],
   "outputs": [],
   "metadata": {
    "scrolled": true
   }
  },
  {
   "cell_type": "code",
   "execution_count": null,
   "source": [
    "more@ = 10000"
   ],
   "outputs": [],
   "metadata": {}
  },
  {
   "cell_type": "code",
   "execution_count": null,
   "source": [
    "class = 'Problem Solving'"
   ],
   "outputs": [],
   "metadata": {}
  },
  {
   "cell_type": "markdown",
   "source": [
    "Because `class` is one of Python's **keywords**.\n",
    "\n",
    "More **reserved words**, or keywords of Python:\n",
    "\n",
    "https://docs.python.org/3/reference/lexical_analysis.html#keywords\n",
    "\n",
    "\n",
    "**DO NOT use them as variable names or file names.**"
   ],
   "metadata": {}
  },
  {
   "cell_type": "markdown",
   "source": [
    "## Expressions and statements\n",
    "\n",
    "An **expression** is a combination of values, variables, and operators. A value all by itself is considered an expression, and so is a variable.\n",
    "\n",
    "Examples of expressions:"
   ],
   "metadata": {}
  },
  {
   "cell_type": "code",
   "execution_count": null,
   "source": [
    "42"
   ],
   "outputs": [],
   "metadata": {}
  },
  {
   "cell_type": "code",
   "execution_count": null,
   "source": [
    "n"
   ],
   "outputs": [],
   "metadata": {}
  },
  {
   "cell_type": "code",
   "execution_count": null,
   "source": [
    "n + 100"
   ],
   "outputs": [],
   "metadata": {}
  },
  {
   "cell_type": "markdown",
   "source": [
    "When you type an expression at the prompt, the interpreter **evaluates** it, which means that it finds the value of the expression. "
   ],
   "metadata": {}
  },
  {
   "cell_type": "markdown",
   "source": [
    "A **statement** is a unit of code that **has an effect**, like creating a variable or displaying a value.\n",
    "\n",
    "Examples of statements:"
   ],
   "metadata": {}
  },
  {
   "cell_type": "code",
   "execution_count": null,
   "source": [
    "n = 100\r\n",
    "print(n)"
   ],
   "outputs": [],
   "metadata": {}
  },
  {
   "cell_type": "markdown",
   "source": [
    "When you type a statement, the interpreter **executes** it, which means that it does whatever the statement says. In general, statements don’t have values.\n",
    "\n",
    "### Dynamic language\n",
    "\n",
    "Variable could be declared again."
   ],
   "metadata": {}
  },
  {
   "cell_type": "code",
   "execution_count": null,
   "source": [
    "a = 123 # a is an integer\r\n",
    "print(a)\r\n",
    "a = 'ABC' # a becomes a string\r\n",
    "print(a)"
   ],
   "outputs": [],
   "metadata": {}
  },
  {
   "cell_type": "markdown",
   "source": [
    "Assignment <code>=</code> is not equation in mathematics! For example:\n"
   ],
   "metadata": {}
  },
  {
   "cell_type": "code",
   "execution_count": null,
   "source": [
    "x = 10\r\n",
    "x = x + 2 # This does not make sense in mathematics, \r\n",
    "# but it is perfectly ok in Python.\r\n",
    "print(x)"
   ],
   "outputs": [],
   "metadata": {}
  },
  {
   "cell_type": "markdown",
   "source": [
    "### What's happening in RAM.\n",
    "\n",
    "Example:"
   ],
   "metadata": {}
  },
  {
   "cell_type": "code",
   "execution_count": null,
   "source": [
    "a = 'ABC'"
   ],
   "outputs": [],
   "metadata": {}
  },
  {
   "cell_type": "markdown",
   "source": [
    "Two things happen:\n",
    "\n",
    "1. a string `'ABC'` is created in RAM\n",
    "2. a variable `a` is created in RAM. It is referencing to `'ABC'`"
   ],
   "metadata": {}
  },
  {
   "cell_type": "code",
   "execution_count": null,
   "source": [
    "a = 'ABC'\r\n",
    "b = a\r\n",
    "a = 'XYZ'\r\n",
    "print(b)"
   ],
   "outputs": [],
   "metadata": {}
  },
  {
   "cell_type": "markdown",
   "source": [
    "Step by step:\r\n",
    "\r\n",
    "![](nb_images/abc_01.png)"
   ],
   "metadata": {}
  },
  {
   "cell_type": "markdown",
   "source": [
    "![](nb_images/abc_02.png)"
   ],
   "metadata": {}
  },
  {
   "cell_type": "markdown",
   "source": [
    "![](nb_images/abc_03.png)"
   ],
   "metadata": {}
  },
  {
   "cell_type": "markdown",
   "source": [
    "## Order of operations\n",
    "\n",
    "For mathematical operators, Python follows mathematical convention. \n",
    "\n",
    "\n",
    "## String operations\n",
    "\n",
    "In general, you can’t perform mathematical operations on strings."
   ],
   "metadata": {}
  },
  {
   "cell_type": "code",
   "execution_count": null,
   "source": [
    "'2' -'1'"
   ],
   "outputs": [],
   "metadata": {}
  },
  {
   "cell_type": "code",
   "execution_count": null,
   "source": [
    "'EU' - 'Great Britain'"
   ],
   "outputs": [],
   "metadata": {}
  },
  {
   "cell_type": "markdown",
   "source": [
    "However, `+` and `*` could be used carefully.\n",
    "\n",
    "The `+` operator performs string concatenation, which means it joins the strings by linking them end-to-end. For example:"
   ],
   "metadata": {}
  },
  {
   "cell_type": "code",
   "execution_count": null,
   "source": [
    "first_name = 'John'\n",
    "last_name = 'Lennon'\n",
    "first_name + last_name"
   ],
   "outputs": [],
   "metadata": {}
  },
  {
   "cell_type": "markdown",
   "source": [
    "The `*` operator also works on strings; it performs repetition. For example:"
   ],
   "metadata": {}
  },
  {
   "cell_type": "code",
   "execution_count": null,
   "source": [
    "'Naah, na na nanana naah, nanana naah, hey Jude. ' * 10"
   ],
   "outputs": [],
   "metadata": {}
  },
  {
   "cell_type": "markdown",
   "source": [
    "## String Formating\n",
    "\n",
    "How do we output formated string? Let's see some examples:"
   ],
   "metadata": {}
  },
  {
   "cell_type": "code",
   "execution_count": null,
   "source": [
    "name = 'world'\n",
    "print(f'Hello, {name}')"
   ],
   "outputs": [],
   "metadata": {}
  },
  {
   "cell_type": "code",
   "execution_count": null,
   "source": [
    "actor = 'Joaquin Phoenix'\n",
    "year = 2020\n",
    "movie = 'Joker'\n",
    "print(f'{actor} wins Best Actor for {movie} at Golden Globes {year}.')"
   ],
   "outputs": [],
   "metadata": {}
  },
  {
   "cell_type": "markdown",
   "source": [
    "### More f-string formatting"
   ],
   "metadata": {}
  },
  {
   "cell_type": "code",
   "execution_count": null,
   "source": [
    "pi = 3.1415926\n",
    "\n",
    "print(f'Pi equals {pi:.5f}.')\n",
    "print(f'Pi equals {pi:8.5f}.')\n",
    "print(f'Pi equals {pi:8.2f}.')"
   ],
   "outputs": [],
   "metadata": {}
  },
  {
   "cell_type": "code",
   "execution_count": null,
   "source": [
    "a = 2021\n",
    "\n",
    "# binary\n",
    "print(f'{a:b}')\n",
    "\n",
    "# hexadecimal\n",
    "print(f\"{a:x}\")\n",
    "\n",
    "# octal\n",
    "print(f\"{a:o}\")\n",
    "\n",
    "# scientific\n",
    "print(f\"{a:e}\")"
   ],
   "outputs": [],
   "metadata": {}
  },
  {
   "cell_type": "code",
   "execution_count": null,
   "source": [
    "s1 = 'a'\n",
    "s2 = 'ab'\n",
    "s3 = 'abc'\n",
    "s4 = 'abcd'\n",
    "\n",
    "print(f'{s1:>10}')\n",
    "print(f'{s2:>10}')\n",
    "print(f'{s3:>10}')\n",
    "print(f'{s4:>10}')"
   ],
   "outputs": [],
   "metadata": {}
  },
  {
   "cell_type": "markdown",
   "source": [
    "#### More about f-strings:\n",
    "\n",
    "https://www.python.org/dev/peps/pep-0498/"
   ],
   "metadata": {}
  },
  {
   "cell_type": "markdown",
   "source": [
    "### Comments\n",
    "\n",
    "**Question**: Why do we need comments?\n",
    "\n"
   ],
   "metadata": {}
  },
  {
   "cell_type": "code",
   "execution_count": null,
   "source": [
    "minute = 45 # current time\n",
    "\n",
    "# compute the percentage of the hour that has elapsed\n",
    "percentage = (minute * 100) / 60"
   ],
   "outputs": [],
   "metadata": {}
  },
  {
   "cell_type": "markdown",
   "source": [
    "### ***Exercise 02***\n",
    "\n",
    "Create file ***calc_2.py*** to answer the following questions. Add comments when necessary.\n",
    "\n",
    "1. The volume of a sphere with radius r is $$(4/3)\\pi r^3.$$ What is the volume of a sphere with radius 5?  \n",
    "  \n",
    "2. Suppose the cover price of a book is <span>$</span>24.95, but bookstores get a 40% discount. Shipping costs \\$3 for the first copy and 75 cents for each additional copy. What is the total wholesale cost for 60 copies?\n",
    "  \n",
    "3. If I leave my house at 6:52 am and run 1 mile at an easy pace (8:15 per mile), then 3 miles at tempo (7:12 per mile) and 1 mile at easy pace again, what time do I get home for breakfast?\n",
    "  \n",
    "4. If my average grade rises from 82 to 89. What is the percentage of the increase? Format the result as `xx.x%`. Keep one figure after decimal point.\n"
   ],
   "metadata": {}
  }
 ],
 "metadata": {
  "anaconda-cloud": {},
  "kernelspec": {
   "display_name": "Python 3",
   "language": "python",
   "name": "python3"
  },
  "language_info": {
   "codemirror_mode": {
    "name": "ipython",
    "version": 3
   },
   "file_extension": ".py",
   "mimetype": "text/x-python",
   "name": "python",
   "nbconvert_exporter": "python",
   "pygments_lexer": "ipython3",
   "version": "3.8.10"
  }
 },
 "nbformat": 4,
 "nbformat_minor": 4
}