{
 "cells": [
  {
   "cell_type": "markdown",
   "source": [
    "# 9. Case Study - Word Play\r\n",
    "> In this case study, we will be solving word puzzles by searching for words that have certain properties.\r\n",
    "\r\n",
    "- toc: true\r\n",
    "- badges: true\r\n",
    "- comments: true\r\n",
    "- categories: [python]\r\n",
    "- author: Zhi Li\r\n",
    "- sticky_rank: 9"
   ],
   "metadata": {}
  },
  {
   "cell_type": "markdown",
   "source": [
    "\r\n",
    "\r\n",
    "In this case study, we will be solving word puzzles by searching for words that have certain properties. For example, we’ll find the longest palindromes in English and search for words whose letters appear in alphabetical order. \r\n",
    "\r\n",
    "## Read word lists\r\n",
    "\r\n",
    "For the exercises in this chapter we need a list of English words. There are lots of word lists available on the Web, but the one most suitable for our purpose is one of the word lists collected and contributed to the public domain by Grady Ward as part of the Moby lexicon project (see https://wikipedia.org/wiki/Moby_Project). \r\n",
    "\r\n",
    "The word list we will use is in [resources/code](https://github.com/OIM3640/resources/tree/main/code) on GitHub. Download *words.txt* and put it under folder *oim3640/data*.\r\n",
    "\r\n",
    "This file is in plain text, so obviously you can open it with a text editor. You can also read it using Python. The built-in function `open` takes the name of the file as a parameter and returns a file object you can use to read the file. "
   ],
   "metadata": {}
  },
  {
   "cell_type": "code",
   "execution_count": null,
   "source": [
    "# if\r\n",
    "fin = open('data/words.txt') # or fin = open('data/words.txt') "
   ],
   "outputs": [],
   "metadata": {}
  },
  {
   "cell_type": "code",
   "execution_count": null,
   "source": [
    "line = repr(fin.readline()) \r\n",
    "#https://docs.python.org/3/library/functions.html#repr\r\n",
    "\r\n",
    "print(line)"
   ],
   "outputs": [],
   "metadata": {}
  },
  {
   "cell_type": "code",
   "execution_count": null,
   "source": [
    "line = fin.readline()\r\n",
    "word = line.strip()\r\n",
    "print(word)"
   ],
   "outputs": [],
   "metadata": {}
  },
  {
   "cell_type": "markdown",
   "source": [
    "We can also use a file object as part of a for loop. This program reads words.txt and prints each word, one per line: "
   ],
   "metadata": {}
  },
  {
   "cell_type": "code",
   "execution_count": null,
   "source": [
    "fin = open('data/words.txt')\r\n",
    "for line in fin:\r\n",
    "    word = line.strip()\r\n",
    "    print(word)"
   ],
   "outputs": [],
   "metadata": {}
  },
  {
   "cell_type": "markdown",
   "source": [
    "## ***Exercise 01***\r\n",
    "\r\n",
    "**Download *word.py* in *resources/code* on GitHub and finish the functions in *word.py* to solve the following problems.**\r\n",
    "\r\n",
    "There are solutions to these exercises in the next section. You should at least attempt each one before you read the solutions.\r\n",
    "\r\n",
    "1\\.  Write a program that reads <code>words.txt</code> and prints only the words with more than 20 characters (not counting whitespace).\r\n",
    "\r\n",
    "       \r\n",
    "2\\.  In 1939 Ernest Vincent Wright published a 50,000 word novel called *Gadsby* that does not contain the letter “e”. Since “e” is the most common letter in English, that’s not easy to do.\r\n",
    "\r\n",
    "  Write a function called <code>has_no_e</code> that returns <code>True</code> if the given word doesn’t have the letter “e” in it.\r\n",
    "\r\n",
    "  Modify your program from the previous section to print only the words that have no “e” and compute the percentage of the words in the list that have no “e”.   \r\n",
    "    \r\n",
    "3\\. Write a function named <code>avoids</code> that takes a word and a string of forbidden letters, and that returns <code>True</code> if the word doesn’t use any of the forbidden letters.\r\n",
    "\r\n",
    "  Modify your program to prompt the user to enter a string of forbidden letters and then print the number of words that don’t contain any of them. Can you find a combination of 5 forbidden letters that excludes the smallest number of words?  \r\n",
    "  \r\n",
    "4\\. According to Dan Brown's <i>The Da Vinci Code</i>, there are **62 other English words** of varying lengths that could be formed using the letters in word \"planets\". Can you find them out?\r\n",
    "\r\n",
    "\r\n",
    "<center><img src=\"nb_images/planet-da-vinci-code.png\" width=\"300\" alt=\"Da Vinci Code\"/></center>\r\n",
    "  \r\n",
    "Write a function named <code>uses_only</code> that takes a word and a string of letters, and that returns <code>True</code> if the word contains only letters in the string. \r\n",
    "\r\n",
    "5\\. Write a function named <code>uses_all</code> that takes a word and a string of required letters, and that returns <code>True</code> if the word uses all the required letters at least once. How many words are there that use all the vowels <code>aeiou</code>? How about <code>aeiouy</code>? \r\n",
    "\r\n",
    "\r\n",
    "6\\. Write a function called <code>is_abecedarian</code> that returns <code>True</code> if the letters in a word appear in alphabetical order (double letters are ok). How many abecedarian words are there?\r\n",
    "\r\n",
    "\r\n",
    "**Stop here and finish *word.py*.**"
   ],
   "metadata": {}
  },
  {
   "cell_type": "markdown",
   "source": [
    "## Search\n",
    "\n",
    "All the functions can be solved with the search pattern:"
   ],
   "metadata": {}
  },
  {
   "cell_type": "code",
   "execution_count": null,
   "source": [
    "def has_no_e(word):\r\n",
    "    for letter in word:\r\n",
    "        if letter == 'e':\r\n",
    "            return False\r\n",
    "    return True"
   ],
   "outputs": [],
   "metadata": {}
  },
  {
   "cell_type": "markdown",
   "source": [
    "`avoids` is a more general version of has_no_e but it has the same structure:"
   ],
   "metadata": {}
  },
  {
   "cell_type": "code",
   "execution_count": null,
   "source": [
    "def avoids(word, forbidden):\r\n",
    "    for letter in word:\r\n",
    "        if letter in forbidden:\r\n",
    "            return False\r\n",
    "    return True"
   ],
   "outputs": [],
   "metadata": {}
  },
  {
   "cell_type": "markdown",
   "source": [
    "`uses_only` is similar except that the sense of the condition is reversed:"
   ],
   "metadata": {}
  },
  {
   "cell_type": "code",
   "execution_count": null,
   "source": [
    "def uses_only(word, available):\r\n",
    "    for letter in word: \r\n",
    "        if letter not in available:\r\n",
    "            return False\r\n",
    "    return True"
   ],
   "outputs": [],
   "metadata": {}
  },
  {
   "cell_type": "markdown",
   "source": [
    "`uses_all` is similar except that we reverse the role of the word and the string of letters:"
   ],
   "metadata": {}
  },
  {
   "cell_type": "code",
   "execution_count": null,
   "source": [
    "def uses_all(word, required):\r\n",
    "    for letter in required: \r\n",
    "        if letter not in word:\r\n",
    "            return False\r\n",
    "    return True"
   ],
   "outputs": [],
   "metadata": {}
  },
  {
   "cell_type": "markdown",
   "source": [
    "If you were really thinking like a computer scientist, you would have recognized that `uses_all` was an instance of a previously solved problem, and you would have written:"
   ],
   "metadata": {}
  },
  {
   "cell_type": "code",
   "execution_count": null,
   "source": [
    "def uses_all(word, required):\r\n",
    "    return uses_only(required, word)"
   ],
   "outputs": [],
   "metadata": {}
  },
  {
   "cell_type": "markdown",
   "source": [
    "This is an example of a program development plan called **reduction to a previously solved problem**, which means that you recognize the problem you are working on as an instance of a solved problem and apply an existing solution. "
   ],
   "metadata": {}
  },
  {
   "cell_type": "markdown",
   "source": [
    "## Looping with indices\n",
    "\n",
    "For <code>is_abecedarian</code> we have to compare adjacent letters, which is a little tricky with a for loop:"
   ],
   "metadata": {}
  },
  {
   "cell_type": "code",
   "execution_count": null,
   "source": [
    "def is_abecedarian(word):\r\n",
    "    previous = word[0]\r\n",
    "    for c in word:\r\n",
    "        if c < previous:\r\n",
    "            return False\r\n",
    "        previous = c\r\n",
    "    return True"
   ],
   "outputs": [],
   "metadata": {}
  },
  {
   "cell_type": "markdown",
   "source": [
    "### ***Exercise 02***\n",
    "1. Rewrite <code>is_abecedarian</code> using recursion\n",
    "\n",
    "2. Rewrite <code>is_abecedarian</code> using <code>while</code> loop."
   ],
   "metadata": {}
  },
  {
   "cell_type": "markdown",
   "source": [
    "## ***Exercise 03***\n",
    "\n",
    "1\\. This question is based on a Puzzler that was broadcast on the radio program Car Talk (https://www.cartalk.com/radio/puzzler):\n",
    "    \n",
    ">Give me a word with three consecutive double letters. I’ll give you a couple of words that almost qualify, but don’t. For example, the word committee, c-o-m-m-i-t-t-e-e. It would be great except for the ‘i’ that sneaks in there. Or Mississippi: M-i-s-s-i-s-s-i-p-p-i. If you could take out those i’s it would work. But there is a word that has three consecutive pairs of letters and to the best of my knowledge this may be the only word. Of course there are probably 500 more but I can only think of one. What is the word? \n",
    "        \n",
    "Finish <code>cartalk.py</code> to find it.        "
   ],
   "metadata": {}
  },
  {
   "cell_type": "markdown",
   "source": [
    "2\\. (optional) Here’s another Car Talk Puzzler(https://www.cartalk.com/radio/puzzler) you can solve with a search (not a search for the solution) :\n",
    "\n",
    ">“Recently I had a visit with my mom and we realized that the two digits that make up my age when reversed resulted in her age. For example, if she’s 73, I’m 37. We wondered how often this has happened over the years but we got sidetracked with other topics and we never came up with an answer.\n",
    "\n",
    ">“When I got home I figured out that the digits of our ages have been reversible six times so far. I also figured out that if we’re lucky it would happen again in a few years, and if we’re really lucky it would happen one more time after that. In other words, it would have happened 8 times over all. So the question is, how old am I now?”\n",
    "\n",
    "Write a Python program that searches for solutions to this Puzzler. Hint: you might find the string method <code>zfill</code> useful."
   ],
   "metadata": {}
  }
 ],
 "metadata": {
  "anaconda-cloud": {},
  "kernelspec": {
   "display_name": "Python 3",
   "language": "python",
   "name": "python3"
  },
  "language_info": {
   "codemirror_mode": {
    "name": "ipython",
    "version": 3
   },
   "file_extension": ".py",
   "mimetype": "text/x-python",
   "name": "python",
   "nbconvert_exporter": "python",
   "pygments_lexer": "ipython3",
   "version": "3.8.10"
  }
 },
 "nbformat": 4,
 "nbformat_minor": 4
}