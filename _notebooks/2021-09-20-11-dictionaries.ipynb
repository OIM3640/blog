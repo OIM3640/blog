{
 "cells": [
  {
   "cell_type": "markdown",
   "source": [
    "# 11. Dictionaries\r\n",
    "> All about dictionary, one of the most used data structures in Python\r\n",
    "\r\n",
    "- toc: true\r\n",
    "- badges: true\r\n",
    "- comments: true\r\n",
    "- categories: [python]\r\n",
    "- author: Zhi Li\r\n",
    "- sticky_rank: 11"
   ],
   "metadata": {}
  },
  {
   "cell_type": "markdown",
   "source": [
    "\r\n",
    "Suppose we have a list of student names and a list of corresponding grades."
   ],
   "metadata": {}
  },
  {
   "cell_type": "code",
   "execution_count": 1,
   "source": [
    "names = ['John', 'Paul', 'Goerge']\r\n",
    "scores = [95, 75, 85]"
   ],
   "outputs": [],
   "metadata": {}
  },
  {
   "cell_type": "markdown",
   "source": [
    "Q. Given a student's name, how do we find his/her grade?\n",
    "\n",
    "\n",
    "A better way to represent key:value relationship is **dictionary**."
   ],
   "metadata": {}
  },
  {
   "cell_type": "markdown",
   "source": [
    "## A dictionary is a mapping\n",
    "\n",
    "A dictionary contains a collection of indices, which are called **keys**, and a collection of **values**. Each key is associated with a single value. The association of a key and a value is called a **key-value pair** or sometimes an **item**. \n",
    "\n",
    "In mathematical language, a dictionary represents a **mapping** from keys to values, so you can also say that each key “maps to” a value. \n",
    "\n",
    "The function <code>dict</code> creates a new dictionary with no items. Because <code>dict</code> is the name of a built-in function, you should avoid using it as a variable name. "
   ],
   "metadata": {}
  },
  {
   "cell_type": "code",
   "execution_count": 2,
   "source": [
    "grades = dict()\r\n",
    "print(grades)"
   ],
   "outputs": [
    {
     "output_type": "stream",
     "name": "stdout",
     "text": [
      "{}\n"
     ]
    }
   ],
   "metadata": {}
  },
  {
   "cell_type": "code",
   "execution_count": 3,
   "source": [
    "grades['John'] = 90\r\n",
    "# creates an item that maps from the key 'John' to the value 90\r\n",
    "print(grades)"
   ],
   "outputs": [
    {
     "output_type": "stream",
     "name": "stdout",
     "text": [
      "{'John': 90}\n"
     ]
    }
   ],
   "metadata": {}
  },
  {
   "cell_type": "code",
   "execution_count": 4,
   "source": [
    "grades ={'John': 90, 'Paul': 75, 'Goerge': 85}\r\n",
    "print(grades)\r\n",
    "# Changed in Python 3.7: Dictionary order is guaranteed to be insertion order. "
   ],
   "outputs": [
    {
     "output_type": "stream",
     "name": "stdout",
     "text": [
      "{'John': 90, 'Paul': 75, 'Goerge': 85}\n"
     ]
    }
   ],
   "metadata": {}
  },
  {
   "cell_type": "code",
   "execution_count": 5,
   "source": [
    "print(grades['Paul'])"
   ],
   "outputs": [
    {
     "output_type": "stream",
     "name": "stdout",
     "text": [
      "75\n"
     ]
    }
   ],
   "metadata": {}
  },
  {
   "cell_type": "code",
   "execution_count": 6,
   "source": [
    "print(grades['Ringo'])"
   ],
   "outputs": [
    {
     "output_type": "error",
     "ename": "KeyError",
     "evalue": "'Ringo'",
     "traceback": [
      "\u001b[1;31m---------------------------------------------------------------------------\u001b[0m",
      "\u001b[1;31mKeyError\u001b[0m                                  Traceback (most recent call last)",
      "\u001b[1;32m<ipython-input-6-abd3b19e719c>\u001b[0m in \u001b[0;36m<module>\u001b[1;34m\u001b[0m\n\u001b[1;32m----> 1\u001b[1;33m \u001b[0mprint\u001b[0m\u001b[1;33m(\u001b[0m\u001b[0mgrades\u001b[0m\u001b[1;33m[\u001b[0m\u001b[1;34m'Ringo'\u001b[0m\u001b[1;33m]\u001b[0m\u001b[1;33m)\u001b[0m\u001b[1;33m\u001b[0m\u001b[1;33m\u001b[0m\u001b[0m\n\u001b[0m",
      "\u001b[1;31mKeyError\u001b[0m: 'Ringo'"
     ]
    }
   ],
   "metadata": {}
  },
  {
   "cell_type": "code",
   "execution_count": 7,
   "source": [
    "print(len(grades))"
   ],
   "outputs": [
    {
     "output_type": "stream",
     "name": "stdout",
     "text": [
      "3\n"
     ]
    }
   ],
   "metadata": {}
  },
  {
   "cell_type": "code",
   "execution_count": 8,
   "source": [
    "'Paul' in grades # only check the keys"
   ],
   "outputs": [
    {
     "output_type": "execute_result",
     "data": {
      "text/plain": [
       "True"
      ]
     },
     "metadata": {},
     "execution_count": 8
    }
   ],
   "metadata": {}
  },
  {
   "cell_type": "code",
   "execution_count": 9,
   "source": [
    "'Paul' in grades"
   ],
   "outputs": [
    {
     "output_type": "execute_result",
     "data": {
      "text/plain": [
       "True"
      ]
     },
     "metadata": {},
     "execution_count": 9
    }
   ],
   "metadata": {}
  },
  {
   "cell_type": "code",
   "execution_count": 10,
   "source": [
    "90 in grades.values() # check the values"
   ],
   "outputs": [
    {
     "output_type": "execute_result",
     "data": {
      "text/plain": [
       "True"
      ]
     },
     "metadata": {},
     "execution_count": 10
    }
   ],
   "metadata": {}
  },
  {
   "cell_type": "markdown",
   "source": [
    "## Dictionary as a collection of counters\n",
    "\n",
    "Suppose you are given a string and you want to count how many times each letter appears. There are several ways you could do it:\n",
    "\n",
    "1. You could create **26 variables**, one for each letter of the alphabet. Then you could traverse the string and, for each character, increment the corresponding counter, probably using a chained conditional.\n",
    "2. You could create **a list with 26 elements**. Then you could convert each character to a number (using the built-in function ord), use the number as an index into the list, and increment the appropriate counter.\n",
    "3. You could create **a dictionary** with characters as keys and counters as the corresponding values. The first time you see a character, you would add an item to the dictionary. After that you would increment the value of an existing item.\n",
    "\n",
    "Each of these options performs the same computation, but each of them implements that computation in a different way.\n",
    "\n",
    "An **implementation** is a way of performing a computation; some implementations are better than others. For example, an **advantage** of the dictionary implementation is that we don’t have to know ahead of time which letters appear in the string and we only have to make room for the letters that do appear.\n",
    "\n",
    "Here is what the code might look like:"
   ],
   "metadata": {}
  },
  {
   "cell_type": "code",
   "execution_count": 11,
   "source": [
    "def histogram(s):\r\n",
    "    d = dict()\r\n",
    "    for c in s:\r\n",
    "        if c not in d:\r\n",
    "            d[c] = 1\r\n",
    "        else:\r\n",
    "            d[c] += 1\r\n",
    "    return d"
   ],
   "outputs": [],
   "metadata": {}
  },
  {
   "cell_type": "code",
   "execution_count": 12,
   "source": [
    "h = histogram('Bookkeeper')\r\n",
    "print(h)"
   ],
   "outputs": [
    {
     "output_type": "stream",
     "name": "stdout",
     "text": [
      "{'B': 1, 'o': 2, 'k': 2, 'e': 3, 'p': 1, 'r': 1}\n"
     ]
    }
   ],
   "metadata": {}
  },
  {
   "cell_type": "markdown",
   "source": [
    "Dictionaries have a method called <code>get</code> that takes a key and a default value. If the key appears in the dictionary, <code>get</code> returns the corresponding value; otherwise it returns the default value. For example:"
   ],
   "metadata": {}
  },
  {
   "cell_type": "code",
   "execution_count": 13,
   "source": [
    "number_of_e = h.get('e', 0)\r\n",
    "number_of_a = h.get('a', 0)\r\n",
    "print(number_of_e)\r\n",
    "print(number_of_a)"
   ],
   "outputs": [
    {
     "output_type": "stream",
     "name": "stdout",
     "text": [
      "3\n",
      "0\n"
     ]
    }
   ],
   "metadata": {}
  },
  {
   "cell_type": "markdown",
   "source": [
    "### ***Exercise 01***\n",
    "\n",
    "1. Rewrite function <code>histogram</code> using <code>get</code>. You should be able to eliminate the <code>if</code> statement.\n",
    "\n",
    "2. Use function `histogram` to count the frequency of each word in your favorite song."
   ],
   "metadata": {}
  },
  {
   "cell_type": "markdown",
   "source": [
    "## Looping and dictionaries"
   ],
   "metadata": {}
  },
  {
   "cell_type": "code",
   "execution_count": 14,
   "source": [
    "def print_hist(h):\r\n",
    "    for c in h:\r\n",
    "        print(c, h[c])\r\n",
    "        \r\n",
    "h = histogram('Massachusetts')\r\n",
    "print_hist(h)"
   ],
   "outputs": [
    {
     "output_type": "stream",
     "name": "stdout",
     "text": [
      "M 1\n",
      "a 2\n",
      "s 4\n",
      "c 1\n",
      "h 1\n",
      "u 1\n",
      "e 1\n",
      "t 2\n"
     ]
    }
   ],
   "metadata": {}
  },
  {
   "cell_type": "code",
   "execution_count": 15,
   "source": [
    "for key in sorted(h):\r\n",
    "    print(key, h[key])"
   ],
   "outputs": [
    {
     "output_type": "stream",
     "name": "stdout",
     "text": [
      "M 1\n",
      "a 2\n",
      "c 1\n",
      "e 1\n",
      "h 1\n",
      "s 4\n",
      "t 2\n",
      "u 1\n"
     ]
    }
   ],
   "metadata": {}
  },
  {
   "cell_type": "markdown",
   "source": [
    "## Reverse lookup\n",
    "\n",
    "Given a dictionary <code>d</code> and a key <code>k</code>, it is easy to find the corresponding value <code>v = d[k]</code>. This operation is called a **lookup**.\n",
    "\n",
    "But what if you have v and you want to find <code>k</code>? "
   ],
   "metadata": {}
  },
  {
   "cell_type": "code",
   "execution_count": null,
   "source": [
    "def reverse_lookup(d, v):\r\n",
    "    for k in d:\r\n",
    "        if d[k] == v:\r\n",
    "            return k\r\n",
    "    raise LookupError()"
   ],
   "outputs": [],
   "metadata": {}
  },
  {
   "cell_type": "markdown",
   "source": [
    "The **<code>raise</code> statement** causes an exception; in this case it causes a <code>LookupError</code>, which is a built-in exception used to indicate that a lookup operation failed. "
   ],
   "metadata": {}
  },
  {
   "cell_type": "code",
   "execution_count": 16,
   "source": [
    "h = histogram('Massachusetts')\r\n",
    "key = reverse_lookup(h, 2)\r\n",
    "print(key)"
   ],
   "outputs": [
    {
     "output_type": "error",
     "ename": "NameError",
     "evalue": "name 'reverse_lookup' is not defined",
     "traceback": [
      "\u001b[1;31m---------------------------------------------------------------------------\u001b[0m",
      "\u001b[1;31mNameError\u001b[0m                                 Traceback (most recent call last)",
      "\u001b[1;32m<ipython-input-16-864b8db8ec51>\u001b[0m in \u001b[0;36m<module>\u001b[1;34m\u001b[0m\n\u001b[0;32m      1\u001b[0m \u001b[0mh\u001b[0m \u001b[1;33m=\u001b[0m \u001b[0mhistogram\u001b[0m\u001b[1;33m(\u001b[0m\u001b[1;34m'Massachusetts'\u001b[0m\u001b[1;33m)\u001b[0m\u001b[1;33m\u001b[0m\u001b[1;33m\u001b[0m\u001b[0m\n\u001b[1;32m----> 2\u001b[1;33m \u001b[0mkey\u001b[0m \u001b[1;33m=\u001b[0m \u001b[0mreverse_lookup\u001b[0m\u001b[1;33m(\u001b[0m\u001b[0mh\u001b[0m\u001b[1;33m,\u001b[0m \u001b[1;36m2\u001b[0m\u001b[1;33m)\u001b[0m\u001b[1;33m\u001b[0m\u001b[1;33m\u001b[0m\u001b[0m\n\u001b[0m\u001b[0;32m      3\u001b[0m \u001b[0mprint\u001b[0m\u001b[1;33m(\u001b[0m\u001b[0mkey\u001b[0m\u001b[1;33m)\u001b[0m\u001b[1;33m\u001b[0m\u001b[1;33m\u001b[0m\u001b[0m\n",
      "\u001b[1;31mNameError\u001b[0m: name 'reverse_lookup' is not defined"
     ]
    }
   ],
   "metadata": {}
  },
  {
   "cell_type": "code",
   "execution_count": 17,
   "source": [
    "key = reverse_lookup(h, 3)"
   ],
   "outputs": [
    {
     "output_type": "error",
     "ename": "NameError",
     "evalue": "name 'reverse_lookup' is not defined",
     "traceback": [
      "\u001b[1;31m---------------------------------------------------------------------------\u001b[0m",
      "\u001b[1;31mNameError\u001b[0m                                 Traceback (most recent call last)",
      "\u001b[1;32m<ipython-input-17-a9dd9a7a13ae>\u001b[0m in \u001b[0;36m<module>\u001b[1;34m\u001b[0m\n\u001b[1;32m----> 1\u001b[1;33m \u001b[0mkey\u001b[0m \u001b[1;33m=\u001b[0m \u001b[0mreverse_lookup\u001b[0m\u001b[1;33m(\u001b[0m\u001b[0mh\u001b[0m\u001b[1;33m,\u001b[0m \u001b[1;36m3\u001b[0m\u001b[1;33m)\u001b[0m\u001b[1;33m\u001b[0m\u001b[1;33m\u001b[0m\u001b[0m\n\u001b[0m",
      "\u001b[1;31mNameError\u001b[0m: name 'reverse_lookup' is not defined"
     ]
    }
   ],
   "metadata": {}
  },
  {
   "cell_type": "markdown",
   "source": [
    "The <code>raise</code> statement can take a detailed error message as an optional argument. For example:"
   ],
   "metadata": {}
  },
  {
   "cell_type": "code",
   "execution_count": 18,
   "source": [
    "raise LookupError('value does not appear in the dictionary')"
   ],
   "outputs": [
    {
     "output_type": "error",
     "ename": "LookupError",
     "evalue": "value does not appear in the dictionary",
     "traceback": [
      "\u001b[1;31m---------------------------------------------------------------------------\u001b[0m",
      "\u001b[1;31mLookupError\u001b[0m                               Traceback (most recent call last)",
      "\u001b[1;32m<ipython-input-18-809967c2546f>\u001b[0m in \u001b[0;36m<module>\u001b[1;34m\u001b[0m\n\u001b[1;32m----> 1\u001b[1;33m \u001b[1;32mraise\u001b[0m \u001b[0mLookupError\u001b[0m\u001b[1;33m(\u001b[0m\u001b[1;34m'value does not appear in the dictionary'\u001b[0m\u001b[1;33m)\u001b[0m\u001b[1;33m\u001b[0m\u001b[1;33m\u001b[0m\u001b[0m\n\u001b[0m",
      "\u001b[1;31mLookupError\u001b[0m: value does not appear in the dictionary"
     ]
    }
   ],
   "metadata": {}
  },
  {
   "cell_type": "markdown",
   "source": [
    "## Dictionaries and lists\n",
    "\n",
    "Lists can appear as values in a dictionary. For example, to invert a dictionary:"
   ],
   "metadata": {}
  },
  {
   "cell_type": "code",
   "execution_count": 19,
   "source": [
    "def invert_dict(d):\r\n",
    "    inverse = dict()\r\n",
    "    for key in d:\r\n",
    "        val = d[key]\r\n",
    "        if val not in inverse:\r\n",
    "            inverse[val] = [key]\r\n",
    "        else:\r\n",
    "            inverse[val].append(key)\r\n",
    "    return inverse"
   ],
   "outputs": [],
   "metadata": {}
  },
  {
   "cell_type": "code",
   "execution_count": 20,
   "source": [
    "hist = histogram('parrot')\r\n",
    "print(hist)"
   ],
   "outputs": [
    {
     "output_type": "stream",
     "name": "stdout",
     "text": [
      "{'p': 1, 'a': 1, 'r': 2, 'o': 1, 't': 1}\n"
     ]
    }
   ],
   "metadata": {}
  },
  {
   "cell_type": "code",
   "execution_count": 21,
   "source": [
    "inverse = invert_dict(hist)\r\n",
    "print(inverse)"
   ],
   "outputs": [
    {
     "output_type": "stream",
     "name": "stdout",
     "text": [
      "{1: ['p', 'a', 'o', 't'], 2: ['r']}\n"
     ]
    }
   ],
   "metadata": {}
  },
  {
   "cell_type": "markdown",
   "source": [
    "Lists can be values in a dictionary, as this example shows, but they cannot be keys. Here’s what happens if you try: "
   ],
   "metadata": {}
  },
  {
   "cell_type": "code",
   "execution_count": 22,
   "source": [
    "t = [1, 2, 3]\r\n",
    "d = dict()\r\n",
    "d[t] = 'oops'"
   ],
   "outputs": [
    {
     "output_type": "error",
     "ename": "TypeError",
     "evalue": "unhashable type: 'list'",
     "traceback": [
      "\u001b[1;31m---------------------------------------------------------------------------\u001b[0m",
      "\u001b[1;31mTypeError\u001b[0m                                 Traceback (most recent call last)",
      "\u001b[1;32m<ipython-input-22-e3ea20954cd2>\u001b[0m in \u001b[0;36m<module>\u001b[1;34m\u001b[0m\n\u001b[0;32m      1\u001b[0m \u001b[0mt\u001b[0m \u001b[1;33m=\u001b[0m \u001b[1;33m[\u001b[0m\u001b[1;36m1\u001b[0m\u001b[1;33m,\u001b[0m \u001b[1;36m2\u001b[0m\u001b[1;33m,\u001b[0m \u001b[1;36m3\u001b[0m\u001b[1;33m]\u001b[0m\u001b[1;33m\u001b[0m\u001b[1;33m\u001b[0m\u001b[0m\n\u001b[0;32m      2\u001b[0m \u001b[0md\u001b[0m \u001b[1;33m=\u001b[0m \u001b[0mdict\u001b[0m\u001b[1;33m(\u001b[0m\u001b[1;33m)\u001b[0m\u001b[1;33m\u001b[0m\u001b[1;33m\u001b[0m\u001b[0m\n\u001b[1;32m----> 3\u001b[1;33m \u001b[0md\u001b[0m\u001b[1;33m[\u001b[0m\u001b[0mt\u001b[0m\u001b[1;33m]\u001b[0m \u001b[1;33m=\u001b[0m \u001b[1;34m'oops'\u001b[0m\u001b[1;33m\u001b[0m\u001b[1;33m\u001b[0m\u001b[0m\n\u001b[0m",
      "\u001b[1;31mTypeError\u001b[0m: unhashable type: 'list'"
     ]
    }
   ],
   "metadata": {}
  },
  {
   "cell_type": "markdown",
   "source": [
    "The reason is that a dictionary is implemented using a hashtable and that means that the keys have to be **hashable**.\n",
    "\n",
    "A **hash** is a function that takes a value (of any kind) and returns an integer. Dictionaries use these integers, called **hash values**, to store and look up key-value pairs.\n",
    "\n",
    "This system works fine if the keys are immutable. But if the keys are mutable, like lists, bad things happen. For example, when you create a key-value pair, Python hashes the key and stores it in the corresponding location. If you modify the key and then hash it again, it would go to a different location. In that case you might have two entries for the same key, or you might not be able to find a key. Either way, the dictionary wouldn’t work correctly.\n",
    "\n",
    "That’s why keys have to be hashable, and why mutable types like lists aren’t. The simplest way to get around this limitation is to use tuples, which we will see in the next chapter.\n",
    "\n",
    "Since dictionaries are **mutable**, they can’t be used as keys, but they can be used as values."
   ],
   "metadata": {}
  },
  {
   "cell_type": "markdown",
   "source": [
    "## Memos\n",
    "\n",
    "Recall how we impletement <code>fibonacci</code> using recursion. Count how many times <code>fibonacci(0)</code> and <code>fibonacci(1)</code> are called. This is an inefficient solution to the problem, and it gets worse as the argument gets bigger. \n",
    "\n",
    "One solution is to keep track of values that have already been computed by storing them in a dictionary. A previously computed value that is stored for later use is called a **memo**. Here is a “memoized” version of <code>fibonacci</code>:"
   ],
   "metadata": {}
  },
  {
   "cell_type": "code",
   "execution_count": 23,
   "source": [
    "known = {0:0, 1:1}\r\n",
    "\r\n",
    "def fibonacci(n):\r\n",
    "    if n in known:\r\n",
    "        return known[n]\r\n",
    "\r\n",
    "    res = fibonacci(n-1) + fibonacci(n-2)\r\n",
    "    known[n] = res\r\n",
    "    return res\r\n",
    "\r\n",
    "for i in range(10):\r\n",
    "    print(fibonacci(i), end=\", \")"
   ],
   "outputs": [
    {
     "output_type": "stream",
     "name": "stdout",
     "text": [
      "0, 1, 1, 2, 3, 5, 8, 13, 21, 34, "
     ]
    }
   ],
   "metadata": {}
  },
  {
   "cell_type": "markdown",
   "source": [
    "`known` is a dictionary that keeps track of the Fibonacci numbers we already know. It starts with two items: `0` maps to `0` and `1` maps to `1`.\n",
    "\n",
    "Whenever `fibonacci` is called, it checks `known`. If the result is already there, it can return immediately. Otherwise it has to compute the new value, add it to the dictionary, and return it."
   ],
   "metadata": {}
  },
  {
   "cell_type": "markdown",
   "source": [
    "### ***Exercise 2***\n",
    "\n",
    "Play with _fibonacci_counted.py_. (You can find the Python file in [resources/code](https://github.com/OIM3640/resources/tree/main/code) on GitHub.)"
   ],
   "metadata": {}
  },
  {
   "cell_type": "markdown",
   "source": [
    "## Global variables\n",
    "In the previous example <code>fibonacciCounted</code>, <code>known</code> is created outside the function, so it belongs to the special frame called <code>__main__</code>. Variables in <code>__main__</code> are sometimes called **global** because they can be accessed from any function. Unlike local variables, which disappear when their function ends, global variables persist from one function call to the next. \n",
    "\n",
    "It is common to use global variables for **flags**; that is, boolean variables that indicate (“flag”) whether a condition is true."
   ],
   "metadata": {}
  },
  {
   "cell_type": "markdown",
   "source": [
    "### ***Exercise 03***\n",
    "\n",
    "Find out another global variable that is used inside functions. What is the difference between this global variable and <code>known</code>? Why?"
   ],
   "metadata": {}
  },
  {
   "cell_type": "markdown",
   "source": [
    "A. If a global variable refers to a mutable value, you can modify the value without declaring the variable.\n",
    "\n",
    "**!!BE CAREFUL!!:** \n",
    "Global variables can be useful, but if you have a lot of them, and you modify them frequently, they can make programs hard to debug.\n",
    "\n",
    "Read more about local and global variables: https://docs.python.org/3/faq/programming.html#what-are-the-rules-for-local-and-global-variables-in-python "
   ],
   "metadata": {}
  },
  {
   "cell_type": "markdown",
   "source": [
    "## ***Exercise 04***\r\n",
    "\r\n",
    "1. Write a function that reads the words in _words.txt_ and stores them as keys in a dictionary. It doesn’t matter what the values are. Then you can use the <code>in</code> operator as a fast way to check whether a string is in the dictionary.  \r\n",
    "\r\n",
    "2. Write a function named <code>has_duplicates</code> that takes a list as a parameter and returns <code>True</code> if there is any object that appears more than once in the list.\r\n",
    "\r\n",
    "3. (Optional) Here’s another Puzzler from [Car Talk](http://www.cartalk.com/content/puzzlers):\r\n",
    "\r\n",
    ">This was sent in by a fellow named Dan O’Leary. He came upon a common one-syllable, five-letter word recently that has the following unique property. When you remove the first letter, the remaining letters form a homophone of the original word, that is a word that sounds exactly the same. Replace the first letter, that is, put it back and remove the second letter and the result is yet another homophone of the original word. And the question is, what’s the word?\r\n",
    "\r\n",
    ">Now I’m going to give you an example that doesn’t work. Let’s look at the five-letter word, ‘wrack.’ W-R-A-C-K, you know like to ‘wrack with pain.’ If I remove the first letter, I am left with a four-letter word, ’R-A-C-K.’ As in, ‘Holy cow, did you see the rack on that buck! It must have been a nine-pointer!’ It’s a perfect homophone. If you put the ‘w’ back, and remove the ‘r,’ instead, you’re left with the word, ‘wack,’ which is a real word, it’s just not a homophone of the other two words.\r\n",
    "\r\n",
    ">But there is, however, at least one word that Dan and we know of, which will yield two homophones if you remove either of the first two letters to make two, new four-letter words. The question is, what’s the word? \r\n",
    "\r\n",
    "You can use the dictionary from Question 1 to check whether a string is in the word list.\r\n",
    "\r\n",
    "To check whether two words are homophones, you can use the CMU Pronouncing Dictionary. You can download it from http://www.speech.cs.cmu.edu/cgi-bin/cmudict or use the file <code>'c06d'</code> in folder <code>cartalk_homophone</code> and you can also use <code>pronounce.py</code>, which provides a function named <code>read_dictionary</code> that reads the pronouncing dictionary and returns a Python dictionary that maps from each word to a string that describes its primary pronunciation.\r\n",
    "\r\n",
    "Write a program that lists all the words that solve the Puzzler."
   ],
   "metadata": {}
  }
 ],
 "metadata": {
  "anaconda-cloud": {},
  "kernelspec": {
   "display_name": "Python 3",
   "language": "python",
   "name": "python3"
  },
  "language_info": {
   "codemirror_mode": {
    "name": "ipython",
    "version": 3
   },
   "file_extension": ".py",
   "mimetype": "text/x-python",
   "name": "python",
   "nbconvert_exporter": "python",
   "pygments_lexer": "ipython3",
   "version": "3.8.10"
  }
 },
 "nbformat": 4,
 "nbformat_minor": 4
}