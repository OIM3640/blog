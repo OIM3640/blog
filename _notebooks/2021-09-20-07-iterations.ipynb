{
 "cells": [
  {
   "cell_type": "markdown",
   "source": [
    "# 7. Iteration\r\n",
    "> Just a quick introduction\r\n",
    "\r\n",
    "- toc: true\r\n",
    "- badges: true\r\n",
    "- comments: true\r\n",
    "- categories: [python]\r\n",
    "- author: Zhi Li\r\n",
    "- sticky_rank: 7"
   ],
   "metadata": {}
  },
  {
   "cell_type": "markdown",
   "source": [
    "\r\n",
    "## <code>for</code> loop\r\n",
    "\r\n",
    "It is easy to calculate sum of 1, 2, 3."
   ],
   "metadata": {}
  },
  {
   "cell_type": "code",
   "execution_count": null,
   "source": [
    "print(1+2+3)"
   ],
   "outputs": [],
   "metadata": {}
  },
  {
   "cell_type": "markdown",
   "source": [
    "1+2+3+...+10? Not that difficult.\n",
    "\n",
    "How about 1+2+3+...+10000?\n",
    "\n",
    "In this case, we need **iterations**.\n",
    "\n",
    "The first type of iteration is <code>for</code> loop. Recall how we drew a square using a for loop:"
   ],
   "metadata": {}
  },
  {
   "cell_type": "code",
   "execution_count": null,
   "source": [
    "for i in range(4):\r\n",
    "    leo.fd(100)\r\n",
    "    leo.lt(90)"
   ],
   "outputs": [],
   "metadata": {}
  },
  {
   "cell_type": "markdown",
   "source": [
    "<code>for x in ...</code> is to take every element into variable x, ane then execute the following block.\n",
    "\n",
    "### ***Exercise 01***\n",
    "\n",
    "1. Calculate the sum of integers from 1 to 10.\n",
    "\n",
    "2. Calculate the sum of integers from 1 to 1000. (hint: we need to use <code>range()</code>.)\n",
    "\n",
    "3. Calculate the sum of all the odd numbers from 1 to 1000. (hint: check out range() function in Python documentation.) How about all the even numbers?"
   ],
   "metadata": {}
  },
  {
   "cell_type": "markdown",
   "source": [
    "## The <code>while</code> statement"
   ],
   "metadata": {}
  },
  {
   "cell_type": "code",
   "execution_count": null,
   "source": [
    "def countdown(n):\r\n",
    "    while n > 0:\r\n",
    "        print(n)\r\n",
    "        n = n - 1\r\n",
    "    print('Blastoff!')"
   ],
   "outputs": [],
   "metadata": {}
  },
  {
   "cell_type": "markdown",
   "source": [
    "You can almost read the while statement as if it were English. It means, “While n is greater than 0, display the value of n and then decrement n. When you get to 0, display the word Blastoff!” \n",
    "\n",
    "More formally, here is the flow of execution for a while statement:\n",
    "\n",
    "  1. Determine whether the condition is true or false.\n",
    "  2. If false, exit the while statement and continue execution at the next statement.\n",
    "  3. If the condition is true, run the body and then go back to step 1."
   ],
   "metadata": {}
  },
  {
   "cell_type": "markdown",
   "source": [
    "### ***Exercise 02***\n",
    "\n",
    "1, Read the following code and answer the questions.\n"
   ],
   "metadata": {}
  },
  {
   "cell_type": "code",
   "execution_count": null,
   "source": [
    "iteration = 0\r\n",
    "count = 0\r\n",
    "while iteration < 5:\r\n",
    "    # the variable 'letter' in the loop stands for every \r\n",
    "    # character, including spaces and commas!\r\n",
    "    for letter in \"hello, world\": \r\n",
    "        count += 1\r\n",
    "    print(\"Iteration \" + str(iteration) + \"; count is: \" + str(count))\r\n",
    "    iteration += 1 \r\n"
   ],
   "outputs": [],
   "metadata": {}
  },
  {
   "cell_type": "markdown",
   "source": [
    "    1. What is the value of the variable count that is printed out (at the print statement) on iteration 0? \n",
    "\n",
    "\t2. What is the value of the variable count that is printed out (at the print statement) on iteration 1? \n",
    "\n",
    "\t3. What is the value of the variable count that is printed out (at the print statement) on iteration 2? \n",
    "\n",
    "\t4. What is the value of the variable count that is printed out (at the print statement) on iteration 3? \n",
    "\n",
    "    5. What is the value of the variable count that is printed out (at the print statement) on iteration 4? "
   ],
   "metadata": {}
  },
  {
   "cell_type": "code",
   "execution_count": null,
   "source": [
    "iteration = 0\r\n",
    "while iteration < 5:\r\n",
    "    count = 0\r\n",
    "    for letter in \"hello, world\":\r\n",
    "        count += 1\r\n",
    "    print(\"Iteration \" + str(iteration) + \"; count is: \" + str(count))\r\n",
    "    iteration += 1 "
   ],
   "outputs": [],
   "metadata": {}
  },
  {
   "cell_type": "markdown",
   "source": [
    "    1. What is the value of the variable count that is printed out (at the print statement) on iteration 0? \n",
    "\n",
    "\t2. What is the value of the variable count that is printed out (at the print statement) on iteration 1? \n",
    "\n",
    "\t3. What is the value of the variable count that is printed out (at the print statement) on iteration 2? \n",
    "\n",
    "\t4. What is the value of the variable count that is printed out (at the print statement) on iteration 3? \n",
    "\n",
    "    5. What is the value of the variable count that is printed out (at the print statement) on iteration 4? "
   ],
   "metadata": {}
  },
  {
   "cell_type": "code",
   "execution_count": null,
   "source": [
    "iteration = 0\r\n",
    "while iteration < 5:\r\n",
    "    count = 0\r\n",
    "    for letter in \"hello, world\":\r\n",
    "        count += 1\r\n",
    "        if iteration % 2 == 0:\r\n",
    "            break\r\n",
    "    print(\"Iteration \" + str(iteration) + \"; count is: \" + str(count))\r\n",
    "    iteration += 1 "
   ],
   "outputs": [],
   "metadata": {}
  },
  {
   "cell_type": "markdown",
   "source": [
    "\t1. How many times will the print statement be executed?  \n",
    "\t2. What is the largest value of the variable iteration that will be printed out (at the print statement)? \n",
    "\t3. What is the largest value of the variable count that will be printed out (at the print statement)? \n",
    "\t4. What is the smallest value of the variable count that will be printed out (at the print statement)? \n"
   ],
   "metadata": {}
  },
  {
   "cell_type": "markdown",
   "source": [
    "2, Using <code>while</code> rewrite all the loops in ***Exercise 01***.\n",
    "   "
   ],
   "metadata": {}
  },
  {
   "cell_type": "markdown",
   "source": [
    "## <code>break</code>\n",
    "\n",
    "Sometimes you don’t know it’s time to end a loop until you get half way through the body. In that case you can use the <code>break</code> statement to jump out of the loop.\n",
    "\n",
    "For example, suppose you want to take input from the user until they type <code>done</code>. You could write:"
   ],
   "metadata": {}
  },
  {
   "cell_type": "code",
   "execution_count": null,
   "source": [
    "while True:\r\n",
    "    line = input('> ')\r\n",
    "    if line == 'done':\r\n",
    "        break\r\n",
    "    print(line)\r\n",
    "\r\n",
    "print('Done!')"
   ],
   "outputs": [],
   "metadata": {}
  },
  {
   "cell_type": "markdown",
   "source": [
    "This way of writing while loops is common because you can check the condition anywhere in the loop (not just at the top) and you can express the stop condition affirmatively (“stop when this happens”) rather than negatively (“keep going until that happens”).\n",
    "\n",
    "\n",
    "Q. What happens in the following program?"
   ],
   "metadata": {}
  },
  {
   "cell_type": "code",
   "execution_count": null,
   "source": [
    "mysum = 0\r\n",
    "for i in range(5, 11, 2):\r\n",
    "    mysum += i\r\n",
    "    if mysum == 5:\r\n",
    "        break\r\n",
    "print(mysum)"
   ],
   "outputs": [],
   "metadata": {}
  },
  {
   "cell_type": "markdown",
   "source": [
    "## **Case study: Square roots**\n",
    "\n",
    "Loops are often used in programs that compute numerical results by starting with an approximate answer and iteratively improving it.\n",
    "\n",
    "For example, one way of computing square roots is Newton’s method. Suppose that you want to know the square root of `a`. If you start with almost any estimate, `x`, you can compute a better estimate with the following formula:\n",
    "$$y=\\frac{x+a/x}{2}$$\n",
    "\n",
    "For example, if `a` is 4 and `x` is 3:"
   ],
   "metadata": {}
  },
  {
   "cell_type": "code",
   "execution_count": null,
   "source": [
    "a = 4\r\n",
    "x = 3\r\n",
    "y = (x + a/x) / 2\r\n",
    "print(y)"
   ],
   "outputs": [],
   "metadata": {}
  },
  {
   "cell_type": "markdown",
   "source": [
    "The result is closer to the correct answer (√4 = 2). If we repeat the process with the new estimate, it gets even closer:"
   ],
   "metadata": {}
  },
  {
   "cell_type": "code",
   "execution_count": null,
   "source": [
    "x = y\r\n",
    "y = (x + a/x) / 2\r\n",
    "print(y)"
   ],
   "outputs": [],
   "metadata": {}
  },
  {
   "cell_type": "markdown",
   "source": [
    "After a few more updates, the estimate is almost exact: "
   ],
   "metadata": {}
  },
  {
   "cell_type": "code",
   "execution_count": null,
   "source": [
    "x = y\r\n",
    "y = (x + a/x) / 2\r\n",
    "print(y)"
   ],
   "outputs": [],
   "metadata": {}
  },
  {
   "cell_type": "code",
   "execution_count": null,
   "source": [
    "x = y\r\n",
    "y = (x + a/x) / 2\r\n",
    "print(y)"
   ],
   "outputs": [],
   "metadata": {}
  },
  {
   "cell_type": "markdown",
   "source": [
    "In general we don’t know ahead of time how many steps it takes to get to the right answer, but we know when we get there because the estimate stops changing:"
   ],
   "metadata": {}
  },
  {
   "cell_type": "code",
   "execution_count": null,
   "source": [
    "x = y\r\n",
    "y = (x + a/x) / 2\r\n",
    "print(y)"
   ],
   "outputs": [],
   "metadata": {}
  },
  {
   "cell_type": "code",
   "execution_count": null,
   "source": [
    "x = y\r\n",
    "y = (x + a/x) / 2\r\n",
    "print(y)"
   ],
   "outputs": [],
   "metadata": {}
  },
  {
   "cell_type": "markdown",
   "source": [
    "When y == x, we can stop. Here is a loop that starts with an initial estimate, x, and improves it until it stops changing:"
   ],
   "metadata": {}
  },
  {
   "cell_type": "code",
   "execution_count": null,
   "source": [
    "while True:\r\n",
    "    print(x)\r\n",
    "    y = (x + a/x) / 2\r\n",
    "    if y == x:\r\n",
    "        break\r\n",
    "    x = y"
   ],
   "outputs": [],
   "metadata": {}
  },
  {
   "cell_type": "markdown",
   "source": [
    "For most values of a this works fine, but in general it is dangerous to test float equality. Floating-point values are only approximately right: most rational numbers, like 1/3, and irrational numbers, like √2, can’t be represented exactly with a float.\n",
    "\n",
    "Rather than checking whether `x` and `y` are exactly equal, it is safer to use the built-in function abs to compute the absolute value, or magnitude, of the difference between them:\n",
    "\n",
    "    if abs(y-x) < epsilon:\n",
    "        break\n",
    "\n",
    "Where <code>epsilon</code> has a value like 0.0000001 that determines how close is close enough."
   ],
   "metadata": {}
  },
  {
   "cell_type": "markdown",
   "source": [
    "### ***Exercise 03***\n",
    "\n",
    "Copy the loop from above and encapsulate it in a function called <code>mysqrt</code> that takes <code>a</code> as a parameter, chooses a reasonable value of <code>x</code>, and returns an estimate of the square root of <code>a</code>.\n",
    "\n",
    "To test it, write a function named <code>test_square_root</code> that prints a table like this:"
   ],
   "metadata": {}
  },
  {
   "cell_type": "code",
   "execution_count": null,
   "source": [
    "a   mysqrt(a)     math.sqrt(a)  diff\r\n",
    "-   ---------     ------------  ----\r\n",
    "1.0 1.0           1.0           0.0\r\n",
    "2.0 1.41421356237 1.41421356237 2.22044604925e-16\r\n",
    "3.0 1.73205080757 1.73205080757 0.0\r\n",
    "4.0 2.0           2.0           0.0\r\n",
    "5.0 2.2360679775  2.2360679775  0.0\r\n",
    "6.0 2.44948974278 2.44948974278 0.0\r\n",
    "7.0 2.64575131106 2.64575131106 0.0\r\n",
    "8.0 2.82842712475 2.82842712475 4.4408920985e-16\r\n",
    "9.0 3.0           3.0           0.0"
   ],
   "outputs": [],
   "metadata": {}
  },
  {
   "cell_type": "markdown",
   "source": [
    "The first column is a number, a; the second column is the square root of a computed with <code>mysqrt</code>; the third column is the square root computed by <code>math.sqrt</code>; the fourth column is the absolute value of the difference between the two estimates. "
   ],
   "metadata": {}
  }
 ],
 "metadata": {
  "anaconda-cloud": {},
  "kernelspec": {
   "display_name": "Python 3",
   "language": "python",
   "name": "python3"
  },
  "language_info": {
   "codemirror_mode": {
    "name": "ipython",
    "version": 3
   },
   "file_extension": ".py",
   "mimetype": "text/x-python",
   "name": "python",
   "nbconvert_exporter": "python",
   "pygments_lexer": "ipython3",
   "version": "3.8.10"
  }
 },
 "nbformat": 4,
 "nbformat_minor": 4
}