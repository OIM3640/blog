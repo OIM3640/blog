{
 "cells": [
  {
   "cell_type": "markdown",
   "source": [
    "# 04 - Functions\r\n",
    "> Just a quick introduction to some basic data types in Python.\r\n",
    "\r\n",
    "- toc: true\r\n",
    "- badges: true\r\n",
    "- comments: true\r\n",
    "- categories: [python]\r\n",
    "- author: Zhi Li\r\n",
    "- sticky_rank: 4"
   ],
   "metadata": {}
  },
  {
   "cell_type": "markdown",
   "source": [
    "\r\n",
    "In the context of programming, a **function** is a named sequence of statements that performs a computation. When you define a function, you specify the name and the sequence of statements. Later, you can \"call\" the function by name.\r\n",
    "\r\n",
    "## Why functions?\r\n",
    "\r\n",
    "We know the area of a circle is: $A= πr^2$. Suppose we need to calculate the areas of three circles, we can do:\r\n",
    "\r\n",
    "$r_1 = 20.16$\r\n",
    "\r\n",
    "$r_2 = 9.13$\r\n",
    "\r\n",
    "$r_3 = 11.55$\r\n",
    "\r\n",
    "$A_1 = 3.14 * r_1^2$\r\n",
    "\r\n",
    "$A_2 = 3.14 * r_2^2$\r\n",
    "\r\n",
    "$A_3 = 3.14 * r_3^2$\r\n",
    "\r\n",
    "**Question**: Is there an easier way to do this? \r\n",
    "\r\n",
    "**Question**: What if we change $π$ to 3.14159 instead of 3.14?\r\n",
    "\r\n",
    "If a function `area_of_cicle(x)` is defined, then we could reuse it many times, like this"
   ],
   "metadata": {}
  },
  {
   "cell_type": "code",
   "execution_count": null,
   "source": [
    "a_1 = area_of_cicle(r_1)\r\n",
    "a_2 = area_of_cicle(r_2)\r\n",
    "a_3 = area_of_cicle(r_3)"
   ],
   "outputs": [],
   "metadata": {}
  },
  {
   "cell_type": "markdown",
   "source": [
    "## Function calls\n",
    "\n",
    "Example of a function call:"
   ],
   "metadata": {}
  },
  {
   "cell_type": "code",
   "execution_count": null,
   "source": [
    "type(42)"
   ],
   "outputs": [],
   "metadata": {}
  },
  {
   "cell_type": "markdown",
   "source": [
    "\n",
    "\n",
    "The name of the function is `type`. The expression in parentheses is called the **argument** of the function. The result, for this function, is the type of the argument.\n",
    "\n",
    "It is common to say that a function \"takes\" an argument and \"returns\" a result. The result is also called the **return value**.\n",
    "\n",
    "To know more about this function, visit the documentation <https://docs.python.org/3/library/functions.html#type>."
   ],
   "metadata": {}
  },
  {
   "cell_type": "code",
   "execution_count": null,
   "source": [
    "type('42')"
   ],
   "outputs": [],
   "metadata": {}
  },
  {
   "cell_type": "code",
   "execution_count": null,
   "source": [
    "int('42')"
   ],
   "outputs": [],
   "metadata": {}
  },
  {
   "cell_type": "code",
   "execution_count": null,
   "source": [
    "int('Hello')"
   ],
   "outputs": [],
   "metadata": {}
  },
  {
   "cell_type": "code",
   "execution_count": null,
   "source": [
    "int(3.99)"
   ],
   "outputs": [],
   "metadata": {}
  },
  {
   "cell_type": "code",
   "execution_count": null,
   "source": [
    "int(-2.3)"
   ],
   "outputs": [],
   "metadata": {}
  },
  {
   "cell_type": "code",
   "execution_count": null,
   "source": [
    "float(42)"
   ],
   "outputs": [],
   "metadata": {}
  },
  {
   "cell_type": "code",
   "execution_count": null,
   "source": [
    "float('3.14')"
   ],
   "outputs": [],
   "metadata": {}
  },
  {
   "cell_type": "code",
   "execution_count": null,
   "source": [
    "str(42)"
   ],
   "outputs": [],
   "metadata": {}
  },
  {
   "cell_type": "code",
   "execution_count": null,
   "source": [
    "str(3.14)"
   ],
   "outputs": [],
   "metadata": {}
  },
  {
   "cell_type": "code",
   "execution_count": null,
   "source": [
    "abs(-100)"
   ],
   "outputs": [],
   "metadata": {}
  },
  {
   "cell_type": "code",
   "execution_count": null,
   "source": [
    "abs(-100, 42)"
   ],
   "outputs": [],
   "metadata": {}
  },
  {
   "cell_type": "code",
   "execution_count": null,
   "source": [
    "max(1, 2)"
   ],
   "outputs": [],
   "metadata": {}
  },
  {
   "cell_type": "code",
   "execution_count": null,
   "source": [
    "max(43, 5345, -654, 2, 0, 99999)"
   ],
   "outputs": [],
   "metadata": {}
  },
  {
   "cell_type": "markdown",
   "source": [
    "### ***Exercise 01***\n",
    "\n",
    "Play with functions `round()`, `min()`, `ord()`, `chr()`. Read documentation https://docs.python.org/3/library/functions.html.  \n",
    "\n"
   ],
   "metadata": {}
  },
  {
   "cell_type": "markdown",
   "source": [
    "## Math functions\n",
    "\n",
    "Python has a math module that provides most of the familiar mathematical functions. A **module** is a file that contains a collection of related functions. Before we can use the functions in a module, we have to import it with an **import statement**:"
   ],
   "metadata": {}
  },
  {
   "cell_type": "code",
   "execution_count": 1,
   "source": [
    "import math"
   ],
   "outputs": [],
   "metadata": {}
  },
  {
   "cell_type": "markdown",
   "source": [
    "This statement creates(borrows) a **module object** named math. If you display the module object, you get some information about it:"
   ],
   "metadata": {}
  },
  {
   "cell_type": "code",
   "execution_count": 2,
   "source": [
    "math"
   ],
   "outputs": [
    {
     "output_type": "execute_result",
     "data": {
      "text/plain": [
       "<module 'math' (built-in)>"
      ]
     },
     "metadata": {},
     "execution_count": 2
    }
   ],
   "metadata": {}
  },
  {
   "cell_type": "code",
   "execution_count": null,
   "source": [
    "# or use help function\r\n",
    "help(math)"
   ],
   "outputs": [],
   "metadata": {}
  },
  {
   "cell_type": "markdown",
   "source": [
    "How to call a function? By using **dot**."
   ],
   "metadata": {}
  },
  {
   "cell_type": "code",
   "execution_count": null,
   "source": [
    "ratio = 100\r\n",
    "math.log10(ratio)"
   ],
   "outputs": [],
   "metadata": {}
  },
  {
   "cell_type": "code",
   "execution_count": null,
   "source": [
    "degrees = 45\r\n",
    "radians = degrees / 180.0 * math.pi # math.pi is not a function. It is a constant.\r\n",
    "math.sin(radians)"
   ],
   "outputs": [],
   "metadata": {}
  },
  {
   "cell_type": "markdown",
   "source": [
    "### ***Exercise 02***\n",
    "\n",
    "From the documentation of `math` module <https://docs.python.org/3/library/math.html>, pick up two functions and play with them."
   ],
   "metadata": {}
  },
  {
   "cell_type": "markdown",
   "source": [
    "## Add new functions\n",
    "\n",
    "We can define our own functions.\n",
    "\n",
    "Example:"
   ],
   "metadata": {}
  },
  {
   "cell_type": "code",
   "execution_count": 4,
   "source": [
    "def print_lyrics():\r\n",
    "    print(\"Hey Jude. Don't make it bad.\")\r\n",
    "    print(\"Take a sad song and make it better.\")"
   ],
   "outputs": [],
   "metadata": {}
  },
  {
   "cell_type": "code",
   "execution_count": 5,
   "source": [
    "type(print_lyrics)"
   ],
   "outputs": [
    {
     "output_type": "execute_result",
     "data": {
      "text/plain": [
       "function"
      ]
     },
     "metadata": {},
     "execution_count": 5
    }
   ],
   "metadata": {}
  },
  {
   "cell_type": "code",
   "execution_count": 6,
   "source": [
    "print_lyrics()"
   ],
   "outputs": [
    {
     "output_type": "stream",
     "name": "stdout",
     "text": [
      "Hey Jude. Don't make it bad.\n",
      "Take a sad song and make it better.\n"
     ]
    }
   ],
   "metadata": {}
  },
  {
   "cell_type": "markdown",
   "source": [
    "We can use a function inside another function."
   ],
   "metadata": {}
  },
  {
   "cell_type": "code",
   "execution_count": 7,
   "source": [
    "# Example\r\n",
    "def repeat_lyrics():\r\n",
    "    print_lyrics()\r\n",
    "    print('Na - na - na - na - na, na - na - na - na')\r\n",
    "    print_lyrics()"
   ],
   "outputs": [],
   "metadata": {}
  },
  {
   "cell_type": "code",
   "execution_count": 8,
   "source": [
    "repeat_lyrics()"
   ],
   "outputs": [
    {
     "output_type": "stream",
     "name": "stdout",
     "text": [
      "Hey Jude. Don't make it bad.\n",
      "Take a sad song and make it better.\n",
      "Na - na - na - na - na, na - na - na - na\n",
      "Hey Jude. Don't make it bad.\n",
      "Take a sad song and make it better.\n"
     ]
    }
   ],
   "metadata": {}
  },
  {
   "cell_type": "markdown",
   "source": [
    "## Parameters and arguments\n",
    "\n",
    "Some of the functions we have seen require arguments. For example, when you call `math.sin` you pass a number as an argument. \n",
    "\n",
    "Inside the function, the arguments are assigned to variables called **parameters**. Here is a definition for a function that takes an argument:"
   ],
   "metadata": {}
  },
  {
   "cell_type": "code",
   "execution_count": 9,
   "source": [
    "def print_twice(whatever_name):\r\n",
    "    print(whatever_name)\r\n",
    "    print(whatever_name)"
   ],
   "outputs": [],
   "metadata": {}
  },
  {
   "cell_type": "code",
   "execution_count": 10,
   "source": [
    "print_twice('Babson')"
   ],
   "outputs": [
    {
     "output_type": "stream",
     "name": "stdout",
     "text": [
      "Babson\n",
      "Babson\n"
     ]
    }
   ],
   "metadata": {}
  },
  {
   "cell_type": "code",
   "execution_count": 11,
   "source": [
    "my_name = 'Jack'\r\n",
    "print_twice(my_name)"
   ],
   "outputs": [
    {
     "output_type": "stream",
     "name": "stdout",
     "text": [
      "Jack\n",
      "Jack\n"
     ]
    }
   ],
   "metadata": {}
  },
  {
   "cell_type": "markdown",
   "source": [
    "### ***Exercise 03***\n",
    "\n",
    "Define a function <code>my_abs</code> to `print` the ***absolute*** value of any number. Note: you are not allowed to use built-in function `abs()`."
   ],
   "metadata": {}
  },
  {
   "cell_type": "markdown",
   "source": [
    "### Variables and parameters are local\n",
    "\n",
    "When you create a variable inside a function, it is **local**, which means that **it only exists inside the function**. For example:"
   ],
   "metadata": {}
  },
  {
   "cell_type": "code",
   "execution_count": 12,
   "source": [
    "def cat_twice(part1, part2):\r\n",
    "    cat = part1 + part2\r\n",
    "    print_twice(cat)"
   ],
   "outputs": [],
   "metadata": {}
  },
  {
   "cell_type": "markdown",
   "source": [
    "This function takes two arguments, concatenates them, and prints the result twice. Here is an example that uses it:"
   ],
   "metadata": {}
  },
  {
   "cell_type": "code",
   "execution_count": 13,
   "source": [
    "line1 = 'Bing tiddle '\r\n",
    "line2 = 'tiddle bang.'\r\n",
    "cat_twice(line1, line2)"
   ],
   "outputs": [
    {
     "output_type": "stream",
     "name": "stdout",
     "text": [
      "Bing tiddle tiddle bang.\n",
      "Bing tiddle tiddle bang.\n"
     ]
    }
   ],
   "metadata": {}
  },
  {
   "cell_type": "markdown",
   "source": [
    "However, when `cat_twice` terminates, the variable `cat` is destroyed. If we try to print it, we get an exception:"
   ],
   "metadata": {}
  },
  {
   "cell_type": "code",
   "execution_count": 14,
   "source": [
    "print(cat)"
   ],
   "outputs": [
    {
     "output_type": "error",
     "ename": "NameError",
     "evalue": "name 'cat' is not defined",
     "traceback": [
      "\u001b[1;31m---------------------------------------------------------------------------\u001b[0m",
      "\u001b[1;31mNameError\u001b[0m                                 Traceback (most recent call last)",
      "\u001b[1;32m<ipython-input-14-34599fba884e>\u001b[0m in \u001b[0;36m<module>\u001b[1;34m\u001b[0m\n\u001b[1;32m----> 1\u001b[1;33m \u001b[0mprint\u001b[0m\u001b[1;33m(\u001b[0m\u001b[0mcat\u001b[0m\u001b[1;33m)\u001b[0m\u001b[1;33m\u001b[0m\u001b[1;33m\u001b[0m\u001b[0m\n\u001b[0m",
      "\u001b[1;31mNameError\u001b[0m: name 'cat' is not defined"
     ]
    }
   ],
   "metadata": {}
  },
  {
   "cell_type": "markdown",
   "source": [
    "Parameters are also local. For example, outside function `print_twice`, there is no such thing as <code>whatever_name</code>."
   ],
   "metadata": {}
  },
  {
   "cell_type": "markdown",
   "source": [
    "## Functions with return value(s) and void functions\n",
    "\n",
    "\n",
    "### Return values:"
   ],
   "metadata": {}
  },
  {
   "cell_type": "code",
   "execution_count": 15,
   "source": [
    "def give_me_a_break():\r\n",
    "    str1 = 'break'\r\n",
    "    return str1"
   ],
   "outputs": [],
   "metadata": {}
  },
  {
   "cell_type": "code",
   "execution_count": null,
   "source": [
    "print(give_me_a_break())"
   ],
   "outputs": [],
   "metadata": {}
  },
  {
   "cell_type": "code",
   "execution_count": null,
   "source": [
    "def give_me_a_break():\r\n",
    "    str1 = 'break'\r\n",
    "    return str1\r\n",
    "    print('another break')\r\n",
    "    \r\n",
    "print(give_me_a_break())"
   ],
   "outputs": [],
   "metadata": {}
  },
  {
   "cell_type": "markdown",
   "source": [
    "### Void functions:\n",
    "\n",
    "Void functions might display something on the screen or have some other effect, but they don’t have a return value. If you assign the result to a variable, you get a special value called <code>None</code>.\n"
   ],
   "metadata": {}
  },
  {
   "cell_type": "code",
   "execution_count": null,
   "source": [
    "result = print_twice('Bing')"
   ],
   "outputs": [],
   "metadata": {}
  },
  {
   "cell_type": "code",
   "execution_count": null,
   "source": [
    "print(result)"
   ],
   "outputs": [],
   "metadata": {}
  },
  {
   "cell_type": "markdown",
   "source": [
    "### ***Exercise 04***\n",
    "\n",
    "Modify the function <code>my_abs</code> to `return` the ***absolute*** value of any number. "
   ],
   "metadata": {}
  },
  {
   "cell_type": "markdown",
   "source": [
    "### Empty function\n",
    "\n",
    "When we have not decided how to write this function, just use <code>pass</code> to make it run."
   ],
   "metadata": {}
  },
  {
   "cell_type": "code",
   "execution_count": null,
   "source": [
    "def nop():\r\n",
    "    pass"
   ],
   "outputs": [],
   "metadata": {}
  },
  {
   "cell_type": "markdown",
   "source": [
    "We can use `pass` in other statements as well."
   ],
   "metadata": {}
  },
  {
   "cell_type": "code",
   "execution_count": null,
   "source": [
    "age= int(input())\r\n",
    "if age >= 18:\r\n",
    "    pass # without pass, you will see error."
   ],
   "outputs": [],
   "metadata": {}
  },
  {
   "cell_type": "markdown",
   "source": [
    "## Argument checking\n",
    "\n",
    "Let's see an example first:"
   ],
   "metadata": {}
  },
  {
   "cell_type": "code",
   "execution_count": null,
   "source": [
    "abs('A')"
   ],
   "outputs": [],
   "metadata": {}
  },
  {
   "cell_type": "markdown",
   "source": [
    "### ***Exercise 05***\n",
    "\n",
    "Modify the function <code>my_abs</code> to first only allow integers and floating numbers, then return the absolute value of any number. You may need a built-in function <code>isinstance()</code> <https://docs.python.org/3/library/functions.html#isinstance>."
   ],
   "metadata": {}
  },
  {
   "cell_type": "markdown",
   "source": [
    "## Return more than one value\n",
    "\n",
    "Take a game program as an example: a function <code>move</code> is created to return the new coordinates - <code>nx</code> and <code>ny</code> - after moving certain steps."
   ],
   "metadata": {}
  },
  {
   "cell_type": "code",
   "execution_count": null,
   "source": [
    "import math\r\n",
    "def move(x, y, step, angle):\r\n",
    "    nx = x + step * math.cos(angle)\r\n",
    "    ny = y - step * math.sin(angle)\r\n",
    "    return nx, ny\r\n",
    "\r\n",
    "x, y = move(100, 100, 60, math.pi / 6)\r\n",
    "print(x, y)"
   ],
   "outputs": [],
   "metadata": {}
  },
  {
   "cell_type": "markdown",
   "source": [
    "### ***Exercise 06***\n",
    "\n",
    "Define a function <code>quadratic(a, b, c)</code> to solve a quadratic equation and return the values of two roots:\n",
    "\n",
    "$ax^2 + bx + c = 0$\n",
    "\n"
   ],
   "metadata": {}
  },
  {
   "cell_type": "code",
   "execution_count": 20,
   "source": [
    "def quadratic(a, b, c):\r\n",
    "    pass # please modify it so the function solves the quadratic equation and return two values"
   ],
   "outputs": [],
   "metadata": {}
  }
 ],
 "metadata": {
  "anaconda-cloud": {},
  "kernelspec": {
   "display_name": "Python 3",
   "language": "python",
   "name": "python3"
  },
  "language_info": {
   "codemirror_mode": {
    "name": "ipython",
    "version": 3
   },
   "file_extension": ".py",
   "mimetype": "text/x-python",
   "name": "python",
   "nbconvert_exporter": "python",
   "pygments_lexer": "ipython3",
   "version": "3.8.10"
  }
 },
 "nbformat": 4,
 "nbformat_minor": 4
}