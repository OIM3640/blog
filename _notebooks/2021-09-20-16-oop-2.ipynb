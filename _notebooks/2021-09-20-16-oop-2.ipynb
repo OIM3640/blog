{
 "cells": [
  {
   "cell_type": "markdown",
   "source": [
    "# 16. Classes and Functions\r\n",
    "> Object-Oriented Programming 2\r\n",
    "\r\n",
    "- toc: true\r\n",
    "- badges: true\r\n",
    "- comments: true\r\n",
    "- categories: [python]\r\n",
    "- author: Zhi Li\r\n",
    "- sticky_rank: 16\r\n",
    "\r\n"
   ],
   "metadata": {}
  },
  {
   "cell_type": "markdown",
   "source": [
    "\r\n",
    "Now that we know how to create new types, the next step is to write functions that take programmer-defined objects as parameters and return them as results.\r\n",
    "\r\n",
    "## Time"
   ],
   "metadata": {}
  },
  {
   "cell_type": "code",
   "execution_count": null,
   "source": [
    "class Time:\r\n",
    "    \"\"\"Represents the time of day.\r\n",
    "       \r\n",
    "    attributes: hour, minute, second\r\n",
    "    \"\"\"\r\n",
    "\r\n",
    "time = Time()\r\n",
    "time.hour = 1\r\n",
    "time.minute = 31\r\n",
    "time.second = 30"
   ],
   "outputs": [],
   "metadata": {}
  },
  {
   "cell_type": "markdown",
   "source": [
    "### ***Exercise 01***\n",
    "\n",
    "1. write a function called <code>print_time</code> that takes a Time object and prints it in the form <code>hour:minute:second</code>. Hint: <code>'f{foo:02}'</code> prints an integer variable, `foo`, using at least two digits, including a leading zero if necessary.\n",
    "2. Write a boolean function called <code>is_after</code> that takes two Time objects, <code>t1</code> and <code>t2</code>, and returns <code>True</code> if <code>t1</code> follows <code>t2</code> chronologically and <code>False</code> otherwise. \n",
    "    **Challenge**: don’t use an <code>if</code> statement."
   ],
   "metadata": {}
  },
  {
   "cell_type": "markdown",
   "source": [
    "## Prototyping and patching\n",
    "\n",
    "In the next few sections, we’ll write two functions that add time values. They demonstrate two kinds of functions: pure functions and modifiers. They also demonstrate a development plan I’ll call **prototype and patch**, which is a way of tackling a complex problem by starting with a simple prototype and incrementally dealing with the complications."
   ],
   "metadata": {}
  },
  {
   "cell_type": "code",
   "execution_count": null,
   "source": [
    "# Here is a simple prototype of add_time:\r\n",
    "def add_time(t1, t2):\r\n",
    "    sum = Time()\r\n",
    "    sum.hour = t1.hour + t2.hour\r\n",
    "    sum.minute = t1.minute + t2.minute\r\n",
    "    sum.second = t1.second + t2.second\r\n",
    "    return sum"
   ],
   "outputs": [],
   "metadata": {}
  },
  {
   "cell_type": "markdown",
   "source": [
    "There might be some problems:"
   ],
   "metadata": {}
  },
  {
   "cell_type": "code",
   "execution_count": null,
   "source": [
    "start = Time()\r\n",
    "start.hour = 9\r\n",
    "start.minute = 45\r\n",
    "start.second =  0\r\n",
    "\r\n",
    "duration = Time()\r\n",
    "duration.hour = 1\r\n",
    "duration.minute = 35\r\n",
    "duration.second = 0\r\n",
    "\r\n",
    "done = add_time(start, duration)\r\n",
    "print_time(done)"
   ],
   "outputs": [],
   "metadata": {}
  },
  {
   "cell_type": "markdown",
   "source": [
    "### ***Exercise 02***\n",
    "Let's improve <code>add_time</code>."
   ],
   "metadata": {}
  },
  {
   "cell_type": "markdown",
   "source": [
    "### Modifier\n",
    "\n",
    "The above function is called a **pure function** because it does not modify any of the objects passed to it as arguments and it has no effect, like displaying a value or getting user input, other than returning a value. \n",
    "\n",
    "Sometimes it is useful for a function to modify the objects it gets as parameters. In that case, the changes are visible to the caller. Functions that work this way are called **modifiers**. For example:\n"
   ],
   "metadata": {}
  },
  {
   "cell_type": "code",
   "execution_count": null,
   "source": [
    "def increment(time, seconds):\r\n",
    "    time.second += seconds\r\n",
    "\r\n",
    "    if time.second >= 60:\r\n",
    "        time.second -= 60\r\n",
    "        time.minute += 1\r\n",
    "\r\n",
    "    if time.minute >= 60:\r\n",
    "        time.minute -= 60\r\n",
    "        time.hour += 1"
   ],
   "outputs": [],
   "metadata": {}
  },
  {
   "cell_type": "markdown",
   "source": [
    "*Question:* Is this function correct? What happens if seconds is much greater than sixty? \n",
    "\n",
    "Anything that can be done with **modifiers** can also be done with **pure functions**. In fact, some programming languages only allow pure functions. There is some evidence that programs that use pure functions are faster to develop and less error-prone than programs that use modifiers. But modifiers are convenient at times, and functional programs tend to be less efficient.\n",
    "\n",
    "In general, I recommend that you write pure functions whenever it is reasonable and resort to modifiers only if there is a compelling advantage. This approach might be called a **functional programming style**. "
   ],
   "metadata": {}
  },
  {
   "cell_type": "markdown",
   "source": [
    "### ***Exercise 03***\n",
    "Write a \"**pure**\" version of <code>increment</code> that creates and returns a new Time object rather than modifying the parameter."
   ],
   "metadata": {}
  },
  {
   "cell_type": "markdown",
   "source": [
    "## Prototyping versus planning\n",
    "\n",
    "\n",
    "The development plan above is called “**prototype and patch**”. For each function, we wrote a prototype that performed the basic calculation and then tested it, patching errors along the way.\n",
    "\n",
    "This approach can be effective, especially if you don’t yet have a deep understanding of the problem. But incremental corrections can generate code that is unnecessarily complicated—since it deals with many special cases—and unreliable—since it is hard to know if you have found all the errors.\n",
    "\n",
    "An alternative is **designed development**, in which high-level insight into the problem can make the programming much easier. In this case, the insight is that a Time object is really a three-digit number in base 60 (see http://en.wikipedia.org/wiki/Sexagesimal.) The second attribute is the “ones column”, the minute attribute is the “sixties column”, and the hour attribute is the “thirty-six hundreds column”.\n",
    "\n",
    "When we wrote `add_time`, we were effectively doing addition in base 60, which is why we had to carry from one column to the next. \n",
    "\n",
    "This observation suggests another approach to the whole problem — we can convert Time objects to integers and take advantage of the fact that the computer knows how to do integer arithmetic.\n",
    "\n",
    "Here is a function that converts Times to integers:"
   ],
   "metadata": {}
  },
  {
   "cell_type": "code",
   "execution_count": null,
   "source": [
    "def time_to_int(time):\r\n",
    "    minutes = time.hour * 60 + time.minute\r\n",
    "    seconds = minutes * 60 + time.second\r\n",
    "    return seconds"
   ],
   "outputs": [],
   "metadata": {}
  },
  {
   "cell_type": "markdown",
   "source": [
    "And here is a function that converts an integer to a Time (recall that <code>divmod</code> divides the first argument by the second and returns the quotient and remainder as a tuple). "
   ],
   "metadata": {}
  },
  {
   "cell_type": "code",
   "execution_count": null,
   "source": [
    "def int_to_time(seconds):\r\n",
    "    time = Time()\r\n",
    "    minutes, time.second = divmod(seconds, 60)\r\n",
    "    time.hour, time.minute = divmod(minutes, 60)\r\n",
    "    return time"
   ],
   "outputs": [],
   "metadata": {}
  },
  {
   "cell_type": "markdown",
   "source": [
    "Once you are convinced they are correct, you can use them to rewrite add_time:"
   ],
   "metadata": {}
  },
  {
   "cell_type": "code",
   "execution_count": null,
   "source": [
    "def add_time_2(t1, t2):\r\n",
    "    seconds = time_to_int(t1) + time_to_int(t2)\r\n",
    "    return int_to_time(seconds)"
   ],
   "outputs": [],
   "metadata": {}
  },
  {
   "cell_type": "markdown",
   "source": [
    "This version is shorter than the original, and easier to verify.\n",
    "\n",
    "It is also easier to add features later. For example, imagine subtracting two Times to find the duration between them. The naive approach would be to implement subtraction with borrowing. Using the conversion functions would be easier and more likely to be correct. "
   ],
   "metadata": {}
  },
  {
   "cell_type": "markdown",
   "source": [
    "### ***Exercise 4***\n",
    "\n",
    "Write a function called <code>substract_time</code> that takes two Time objects returns find the duration between them.\n",
    "\n"
   ],
   "metadata": {}
  },
  {
   "cell_type": "markdown",
   "source": [
    "## Error handling\n",
    "\n"
   ],
   "metadata": {}
  },
  {
   "cell_type": "code",
   "execution_count": null,
   "source": [
    "def valid_time(time):\r\n",
    "    if time.hour < 0 or time.minute < 0 or time.second < 0:\r\n",
    "        return False\r\n",
    "    if time.minute >= 60 or time.second >= 60:\r\n",
    "        return False\r\n",
    "    return True\r\n",
    "\r\n",
    "\r\n",
    "def add_time_2(t1, t2):\r\n",
    "    if not valid_time(t1) or not valid_time(t2):\r\n",
    "        raise ValueError('invalid Time object in add_time')\r\n",
    "    seconds = time_to_int(t1) + time_to_int(t2)\r\n",
    "    return int_to_time(seconds)"
   ],
   "outputs": [],
   "metadata": {}
  },
  {
   "cell_type": "markdown",
   "source": [
    "Or you could use an **assert statement**, which checks a given invariant and raises an exception if it fails: "
   ],
   "metadata": {}
  },
  {
   "cell_type": "code",
   "execution_count": null,
   "source": [
    "def add_time(t1, t2):\r\n",
    "    assert valid_time(t1) and valid_time(t2)\r\n",
    "    seconds = time_to_int(t1) + time_to_int(t2)\r\n",
    "    return int_to_time(seconds)"
   ],
   "outputs": [],
   "metadata": {}
  },
  {
   "cell_type": "markdown",
   "source": [
    "<code>assert</code> statements are useful because they distinguish code that deals with normal conditions from code that checks for errors."
   ],
   "metadata": {}
  },
  {
   "cell_type": "markdown",
   "source": [
    "### ***Exercise 05***\n",
    "\n",
    "Write a function called <code>mul_time</code> that takes a Time object and a number and returns a new Time object that contains the product of the original Time and the number.\n",
    "\n",
    "Then use <code>mul_time</code> to write a function that takes a Time object that represents the finishing time in a race, and a number that represents the distance, and returns a Time object that represents the average pace (time per mile). "
   ],
   "metadata": {}
  },
  {
   "cell_type": "markdown",
   "source": [
    "### ***Exercise 06***\n",
    "\n",
    "\n",
    "The <code>datetime</code> module provides <code>time</code> objects that are similar to the Time objects in this chapter, but they provide a rich set of methods and operators. Read the documentation at http://docs.python.org/3/library/datetime.html.\n",
    "\n",
    "1. Use the <code>datetime</code> module to write a program that gets the current date and prints the day of the week.\n",
    "2. Write a program that takes a birthday as input and prints the user’s age and the number of days, hours, minutes and seconds until their next birthday.\n",
    "3. For two people born on different days, there is a day when one is twice as old as the other. That’s their Double Day. Write a program that takes two birthdays and computes their Double Day.\n",
    "4. For a little more challenge, write the more general version that computes the day when one person is n times older than the other. "
   ],
   "metadata": {}
  }
 ],
 "metadata": {
  "anaconda-cloud": {},
  "kernelspec": {
   "display_name": "Python 3",
   "language": "python",
   "name": "python3"
  },
  "language_info": {
   "codemirror_mode": {
    "name": "ipython",
    "version": 3
   },
   "file_extension": ".py",
   "mimetype": "text/x-python",
   "name": "python",
   "nbconvert_exporter": "python",
   "pygments_lexer": "ipython3",
   "version": "3.8.10"
  }
 },
 "nbformat": 4,
 "nbformat_minor": 4
}