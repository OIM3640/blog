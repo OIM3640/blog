{
 "cells": [
  {
   "cell_type": "markdown",
   "source": [
    "# 6. Conditionals\r\n",
    "> Learning conditional statements and recursive functions in Python.\r\n",
    "\r\n",
    "- toc: true\r\n",
    "- badges: true\r\n",
    "- comments: true\r\n",
    "- categories: [python]\r\n",
    "- author: Zhi Li\r\n",
    "- sticky_rank: 6"
   ],
   "metadata": {}
  },
  {
   "cell_type": "markdown",
   "source": [
    "## Conditional statements\r\n",
    "\r\n",
    "In order to write useful programs, we almost always need the ability to check conditions and change the behavior of the program accordingly. **Conditional statements** give us this ability. \r\n",
    "\r\n",
    "\r\n",
    "<img src=\"nb_images/less_traveled_by.png\"  width=\"500\">\r\n"
   ],
   "metadata": {}
  },
  {
   "cell_type": "code",
   "execution_count": null,
   "source": [
    "age = 20\r\n",
    "if age >= 18:\r\n",
    "    print('Your age is', age)\r\n",
    "    print('adult')"
   ],
   "outputs": [],
   "metadata": {}
  },
  {
   "cell_type": "markdown",
   "source": [
    "The boolean expression after if is called the **condition**. If it is true, the indented statement runs. If not, nothing happens. "
   ],
   "metadata": {}
  },
  {
   "cell_type": "markdown",
   "source": [
    "## Alternative execution"
   ],
   "metadata": {}
  },
  {
   "cell_type": "code",
   "execution_count": null,
   "source": [
    "age = 3\r\n",
    "if age >= 18:\r\n",
    "    print('your age is', age)\r\n",
    "    print('adult')\r\n",
    "else: # don't forget this colon \r\n",
    "    print('your age is', age)\r\n",
    "    print('teenager')"
   ],
   "outputs": [],
   "metadata": {}
  },
  {
   "cell_type": "markdown",
   "source": [
    "## Chained conditionals\n",
    "\n",
    "\n",
    "<code>elif</code> is short for else if. Let's see this example:"
   ],
   "metadata": {}
  },
  {
   "cell_type": "code",
   "execution_count": null,
   "source": [
    "age = 3\r\n",
    "if age >= 18:\r\n",
    "    print('adult')\r\n",
    "elif age >= 6:\r\n",
    "    print('teenager')\r\n",
    "else:\r\n",
    "    print('kid')"
   ],
   "outputs": [],
   "metadata": {}
  },
  {
   "cell_type": "markdown",
   "source": [
    "Q. What will be printed after executing the following code?"
   ],
   "metadata": {}
  },
  {
   "cell_type": "code",
   "execution_count": null,
   "source": [
    "age = 20\r\n",
    "if age >= 6:\r\n",
    "    print('teenager')\r\n",
    "elif age >= 18:\r\n",
    "    print('adult')\r\n",
    "else:\r\n",
    "    print('kid')"
   ],
   "outputs": [],
   "metadata": {}
  },
  {
   "cell_type": "markdown",
   "source": [
    "## Nested conditionals"
   ],
   "metadata": {}
  },
  {
   "cell_type": "code",
   "execution_count": null,
   "source": [
    "if x == y:\r\n",
    "    print('x and y are equal')\r\n",
    "else:\r\n",
    "    if x < y:\r\n",
    "        print('x is less than y')\r\n",
    "    else:\r\n",
    "        print('x is greater than y')\r\n",
    "        \r\n",
    "        "
   ],
   "outputs": [],
   "metadata": {}
  },
  {
   "cell_type": "markdown",
   "source": [
    "### ***Exercise 01***"
   ],
   "metadata": {}
  },
  {
   "cell_type": "markdown",
   "source": [
    "1\\. Fermat’s Last Theorem says that there are no positive integers a, b, and c such that $a^n + b^n = c^n$ for any values of n greater than 2.\n",
    "\n",
    "1. Write a function named `check_fermat` that takes four parameters — `a`, `b`, `c` and `n` — and checks to see if Fermat’s theorem holds. If n is greater than 2 and $a^n + b^n = c^n$, the program should print:\n",
    "    > “Holy smokes, Fermat was wrong!” \n",
    "    \n",
    "    Otherwise the program should print:\n",
    "    > “No, that doesn’t work.”\n",
    "    \n",
    "2. Write another function that prompts the user to input values for `a`, `b`, `c` and `n`, converts them to integers, and uses `check_fermat` to check whether they violate Fermat’s theorem."
   ],
   "metadata": {}
  },
  {
   "cell_type": "markdown",
   "source": [
    "\r\n",
    "2\\. Write a function, `calculate_bmi` that takes two parameters, `weight` and `height`, to return BMI value. Write another function, `get_bmi_category` that prompts user to input values for `weight` and `height`, converts them to floats, uses `calculate_bmi` to calculate BMI value, and returns the corresponding BMI category.\r\n",
    "\r\n",
    "<img src=\"nb_images/bmi-formula.jpg\"  width=\"300\">\r\n",
    "\r\n",
    "BMI Categories: \r\n",
    "- Underweight = <18.5\r\n",
    "- Normal weight = 18.5–24.9 \r\n",
    "- Overweight = 25–29.9 \r\n",
    "- Obesity = BMI of 30 or greater "
   ],
   "metadata": {}
  },
  {
   "cell_type": "markdown",
   "source": [
    "## Recursion\n",
    "\n",
    "It is legal for one function to call another; it is also legal for a function to call itself. It may not be obvious why that is a good thing, but it turns out to be one of the most magical things a program can do. For example, look at the following function:\n"
   ],
   "metadata": {}
  },
  {
   "cell_type": "code",
   "execution_count": null,
   "source": [
    "def countdown(n):\r\n",
    "    if n <= 0:\r\n",
    "        print('Blastoff!')\r\n",
    "    else:\r\n",
    "        print(n)\r\n",
    "        countdown(n-1)"
   ],
   "outputs": [],
   "metadata": {}
  },
  {
   "cell_type": "markdown",
   "source": [
    "Q. What happens if we call this function like this"
   ],
   "metadata": {}
  },
  {
   "cell_type": "code",
   "execution_count": null,
   "source": [
    "countdown(3)"
   ],
   "outputs": [],
   "metadata": {}
  },
  {
   "cell_type": "markdown",
   "source": [
    "A function that calls itself is **recursive**; the process of executing it is called **recursion**.\n",
    "\n",
    "As another example, we can write a function that prints <code>a</code> string <code>n</code> times."
   ],
   "metadata": {}
  },
  {
   "cell_type": "code",
   "execution_count": null,
   "source": [
    "def print_n(s, n):\r\n",
    "    if n <= 0:\r\n",
    "        return\r\n",
    "    print(s)\r\n",
    "    print_n(s, n-1)"
   ],
   "outputs": [],
   "metadata": {}
  },
  {
   "cell_type": "markdown",
   "source": [
    "## Infinite recursion\n",
    "\n"
   ],
   "metadata": {}
  },
  {
   "cell_type": "code",
   "execution_count": null,
   "source": [
    "def recurse():\r\n",
    "    recurse()"
   ],
   "outputs": [],
   "metadata": {}
  },
  {
   "cell_type": "markdown",
   "source": [
    "If you write encounter an infinite recursion by accident, review your function to confirm that there is a base case that does not make a recursive call. And if there is a base case, check whether you are guaranteed to reach it."
   ],
   "metadata": {}
  },
  {
   "cell_type": "markdown",
   "source": [
    "### ***Exercise 02***\n",
    "\n",
    "1\\. Write a program, <code>factorial.py</code> to compute a factorial of an integer, <code>n</code>.\n",
    "\n",
    "\n",
    "2\\. Write a program, <code>fibonacci.py</code> to compute the Fibonacci number of an integer , <code>n</code>."
   ],
   "metadata": {}
  },
  {
   "cell_type": "markdown",
   "source": [
    "3\\. The greatest common divisor of two positive integers is the largest integer that divides each of them without remainder. For example,\n",
    "\n",
    "    gcd(2, 12) = 2\n",
    "\n",
    "    gcd(6, 12) = 6\n",
    "\n",
    "    gcd(9, 12) = 3\n",
    "\n",
    "    gcd(17, 12) = 1\n",
    "\n",
    "See this website for an example of Euclid's algorithm being used to find the gcd. <https://en.wikipedia.org/wiki/Euclidean_algorithm#Worked_example>\n",
    "\n",
    "Write a program, <code>greatest_common_divisor.py</code> to implement this idea recursively. The function <code>gcd()</code> takes in two positive integers and returns one integer.\n"
   ],
   "metadata": {}
  },
  {
   "cell_type": "markdown",
   "source": [
    "4\\. (Optional) Implement recusive algorithm for game: **the Tower of Hanoi**. \n",
    "\n",
    "More about the game: <https://www.mathsisfun.com/games/towerofhanoi.html> "
   ],
   "metadata": {}
  },
  {
   "cell_type": "code",
   "execution_count": null,
   "source": [
    "def move(n, source, bridge, destination):\r\n",
    "    pass # need to be modified\r\n",
    "\r\n",
    "\r\n",
    "move(3, 'A', 'B', 'C')\r\n",
    "# Expected output:\r\n",
    "# A --> C\r\n",
    "# A --> B\r\n",
    "# C --> B\r\n",
    "# A --> C\r\n",
    "# B --> A\r\n",
    "# B --> C\r\n",
    "# A --> C\r\n"
   ],
   "outputs": [],
   "metadata": {}
  },
  {
   "cell_type": "markdown",
   "source": [
    "A visualized version of Tower of Hanoi code can be found [here](https://github.com/asweigart/recursion_examples/blob/master/towersOfHanoi.py). "
   ],
   "metadata": {}
  }
 ],
 "metadata": {
  "anaconda-cloud": {},
  "kernelspec": {
   "display_name": "Python 3",
   "language": "python",
   "name": "python3"
  },
  "language_info": {
   "codemirror_mode": {
    "name": "ipython",
    "version": 3
   },
   "file_extension": ".py",
   "mimetype": "text/x-python",
   "name": "python",
   "nbconvert_exporter": "python",
   "pygments_lexer": "ipython3",
   "version": "3.8.10"
  }
 },
 "nbformat": 4,
 "nbformat_minor": 4
}